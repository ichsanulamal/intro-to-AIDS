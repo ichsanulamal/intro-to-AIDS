{
  "cells": [
    {
      "cell_type": "markdown",
      "metadata": {
        "id": "0k_j9vD93i96"
      },
      "source": [
        "<center>\n",
        "<img src=\"https://drive.google.com/uc?id=1f1gGVI-rxcHjA90WEGNvvtSXF1pAxQwg\" alt=\"Fasilkom UI\" width=\"300\"/>\n",
        "\n",
        "CSGE603130 • Kecerdasan Artifisial dan Sains Data Dasar\n",
        "\n",
        "Semester Ganjil 2021/2022\n",
        "\n",
        "Fakultas Ilmu Komputer, Universitas Indonesia\n",
        "\n",
        "##**Tugas *3*: *Regresi***\n",
        "\n",
        "###**Tenggat Waktu: 18 November 2021, 23.55 WIB**\n",
        "</center>\n",
        "\n",
        "####**Ketentuan:**\n",
        "\n",
        "1. Dataset yang digunakan pada tugas ini beserta deskripsinya telah disediakan di SCeLe.\n",
        "2. Buatlah program Jupyter Notebook yang menjawab pertanyaan sesuai dengan perintah soal yang disediakan.\n",
        "3. Dokumen Jupyter Notebook yang telah dilengkapi dengan jawaban dikumpulkan dengan format penamaan **Kelas_TugasX_NPM_Nama.ipynb**. Contoh: F_Tugas1_1706979341_Lulu Ilmaknun Qurotaini.ipynb\n",
        "4. Kumpulkan dokumen tersebut pada submisi yang telah disediakan di SCeLe sesuai dengan kelas masing-masing sebelum **18 November 2021, 23.55 WIB**. Keterlambatan pengumpulan akan dikenakan pinalti.\n",
        "5. Praktikum ini dirancang sebagai **tugas mandiri**. Plagiarisme tidak diperkenankan dalam bentuk apapun. Adapun kolaborasi berupa diskusi (tanpa menyalin) dan literasi masih diperbolehkan dengan mencantumkan kolaborator dan sumber.\n"
      ]
    },
    {
      "cell_type": "markdown",
      "metadata": {
        "id": "JnRUE1Ul62_R"
      },
      "source": [
        "## **Pernyataan Integritas**\n",
        "\n",
        "Wajib diisi. Tanpa pernyataan integritas submisi akan dikenakan pinalti."
      ]
    },
    {
      "cell_type": "code",
      "execution_count": 1,
      "metadata": {
        "id": "9tnfWWpN7vjq"
      },
      "outputs": [],
      "source": [
        "# Isi dengan data diri Anda\n",
        "NAMA = \"Muhammad Ichsanul Amal\"\n",
        "KELAS = \"C\"\n",
        "NPM = \"1906353454\"\n",
        "\n",
        "# Isi dengan NPM teman yang berdiskusi dengan Anda\n",
        "KOLABORATOR = []\n",
        "\n",
        "# Isi dengan sumber referensi yang Anda gunakan dalam mengerjakan\n",
        "REFERENSI = [\n",
        "    \"\"\"\n",
        "    https://medium.com/analytics-vidhya/implementing-linear-regression-using-sklearn-76264a3c073c\n",
        "    https://machinelearningmastery.com/multinomial-logistic-regression-with-python/\n",
        "    https://scikit-learn.org/stable/modules/preprocessing.html\n",
        "    https://towardsdatascience.com/understand-data-normalization-in-machine-learning-8ff3062101f0\n",
        "    https://www.pluralsight.com/guides/linear-lasso-ridge-regression-scikit-learn\n",
        "    https://stats.stackexchange.com/questions/48360/is-standardization-needed-before-fitting-logistic-regression\n",
        "    https://stackoverflow.com/questions/52670012/convergencewarning-liblinear-failed-to-converge-increase-the-number-of-iterati\n",
        "    \"\"\"\n",
        "]"
      ]
    },
    {
      "cell_type": "code",
      "execution_count": 2,
      "metadata": {
        "colab": {
          "base_uri": "https://localhost:8080/"
        },
        "id": "KVEdteyu3hot",
        "outputId": "59edfab0-3ca9-4939-d06b-d22d78fc8d98"
      },
      "outputs": [
        {
          "name": "stdout",
          "output_type": "stream",
          "text": [
            "Saya, Muhammad Ichsanul Amal dari kelas C dengan NPM 1906353454, menyatakan bahwa seluruh jawaban pada pekerjaan ini murni saya kerjakan sendiri.\n",
            "Saya tidak mencontek jawaban, memberikan jawaban, maupun menyalin dari sumber manapun.\n",
            " \n",
            "Jika saya melanggar pernyataan tersebut, saya siap menerima konsekuensi apapun yang diberikan.\n",
            "   (Muhammad Ichsanul Amal)\n"
          ]
        }
      ],
      "source": [
        "PERNYATAAN_INTEGRITAS = \"Saya, %s dari kelas %s dengan NPM %s, menyatakan bahwa seluruh jawaban pada pekerjaan ini murni saya kerjakan sendiri.\\n\\\n",
        "Saya tidak mencontek jawaban, memberikan jawaban, maupun menyalin dari sumber manapun.\\n \\\n",
        "\\n\\\n",
        "Jika saya melanggar pernyataan tersebut, saya siap menerima konsekuensi apapun yang diberikan.\\n   \\\n",
        "(%s)\" % (NAMA, KELAS, NPM, NAMA)\n",
        "\n",
        "print(PERNYATAAN_INTEGRITAS)"
      ]
    },
    {
      "cell_type": "markdown",
      "metadata": {
        "id": "9CmWck-cA9CJ"
      },
      "source": [
        "## **Preprocessing**"
      ]
    },
    {
      "cell_type": "markdown",
      "metadata": {
        "id": "Fqcv19xqA9AH"
      },
      "source": [
        "### Nomor 1\n",
        "[10] Berikan ringkasan mengenai data tersebut terkait dengan deskripsi setiap atribut, jumlah atribut (numerik & kategorik), jumlah missing values, jumlah duplikasi data, dan kemungkinan adanya outliers pada data!"
      ]
    },
    {
      "cell_type": "code",
      "execution_count": 3,
      "metadata": {
        "id": "pt0wkTEgBWeT"
      },
      "outputs": [],
      "source": [
        "import pandas as pd\n",
        "import numpy as np\n",
        "\n",
        "import matplotlib.pyplot as plt\n",
        "import seaborn as sns\n",
        "\n",
        "from sklearn.model_selection import train_test_split\n",
        "from sklearn.pipeline import make_pipeline\n",
        "from sklearn.preprocessing import StandardScaler\n",
        "\n",
        "from sklearn.linear_model import LinearRegression, Ridge, Lasso\n",
        "from sklearn.linear_model import LogisticRegression\n",
        "\n",
        "from sklearn import metrics\n",
        "from sklearn.metrics import mean_squared_error\n"
      ]
    },
    {
      "cell_type": "code",
      "execution_count": 4,
      "metadata": {},
      "outputs": [
        {
          "data": {
            "text/html": [
              "<div>\n",
              "<style scoped>\n",
              "    .dataframe tbody tr th:only-of-type {\n",
              "        vertical-align: middle;\n",
              "    }\n",
              "\n",
              "    .dataframe tbody tr th {\n",
              "        vertical-align: top;\n",
              "    }\n",
              "\n",
              "    .dataframe thead th {\n",
              "        text-align: right;\n",
              "    }\n",
              "</style>\n",
              "<table border=\"1\" class=\"dataframe\">\n",
              "  <thead>\n",
              "    <tr style=\"text-align: right;\">\n",
              "      <th></th>\n",
              "      <th>avgAnnCount</th>\n",
              "      <th>avgDeathsPerYear</th>\n",
              "      <th>TARGET_deathRate</th>\n",
              "      <th>incidenceRate</th>\n",
              "      <th>medIncome</th>\n",
              "      <th>popEst2015</th>\n",
              "      <th>povertyPercent</th>\n",
              "      <th>studyPerCap</th>\n",
              "      <th>binnedInc</th>\n",
              "      <th>MedianAge</th>\n",
              "      <th>...</th>\n",
              "      <th>PctPublicCoverage</th>\n",
              "      <th>PctPublicCoverageAlone</th>\n",
              "      <th>PctWhite</th>\n",
              "      <th>PctBlack</th>\n",
              "      <th>PctAsian</th>\n",
              "      <th>PctOtherRace</th>\n",
              "      <th>PctMarriedHouseholds</th>\n",
              "      <th>BirthRate</th>\n",
              "      <th>TARGET_logistic</th>\n",
              "      <th>TARGET_softmax</th>\n",
              "    </tr>\n",
              "  </thead>\n",
              "  <tbody>\n",
              "    <tr>\n",
              "      <th>0</th>\n",
              "      <td>1397.0</td>\n",
              "      <td>469</td>\n",
              "      <td>164.9</td>\n",
              "      <td>489.8</td>\n",
              "      <td>61898</td>\n",
              "      <td>260131</td>\n",
              "      <td>11.2</td>\n",
              "      <td>499.748204</td>\n",
              "      <td>(61494.5, 125635]</td>\n",
              "      <td>39.3</td>\n",
              "      <td>...</td>\n",
              "      <td>32.9</td>\n",
              "      <td>14.0</td>\n",
              "      <td>81.780529</td>\n",
              "      <td>2.594728</td>\n",
              "      <td>4.821857</td>\n",
              "      <td>1.843479</td>\n",
              "      <td>52.856076</td>\n",
              "      <td>6.118831</td>\n",
              "      <td>1</td>\n",
              "      <td>2</td>\n",
              "    </tr>\n",
              "    <tr>\n",
              "      <th>1</th>\n",
              "      <td>173.0</td>\n",
              "      <td>70</td>\n",
              "      <td>161.3</td>\n",
              "      <td>411.6</td>\n",
              "      <td>48127</td>\n",
              "      <td>43269</td>\n",
              "      <td>18.6</td>\n",
              "      <td>23.111234</td>\n",
              "      <td>(48021.6, 51046.4]</td>\n",
              "      <td>33.0</td>\n",
              "      <td>...</td>\n",
              "      <td>31.1</td>\n",
              "      <td>15.3</td>\n",
              "      <td>89.228509</td>\n",
              "      <td>0.969102</td>\n",
              "      <td>2.246233</td>\n",
              "      <td>3.741352</td>\n",
              "      <td>45.372500</td>\n",
              "      <td>4.333096</td>\n",
              "      <td>1</td>\n",
              "      <td>2</td>\n",
              "    </tr>\n",
              "    <tr>\n",
              "      <th>2</th>\n",
              "      <td>102.0</td>\n",
              "      <td>50</td>\n",
              "      <td>174.7</td>\n",
              "      <td>349.7</td>\n",
              "      <td>49348</td>\n",
              "      <td>21026</td>\n",
              "      <td>14.6</td>\n",
              "      <td>47.560164</td>\n",
              "      <td>(48021.6, 51046.4]</td>\n",
              "      <td>45.0</td>\n",
              "      <td>...</td>\n",
              "      <td>42.1</td>\n",
              "      <td>21.1</td>\n",
              "      <td>90.922190</td>\n",
              "      <td>0.739673</td>\n",
              "      <td>0.465898</td>\n",
              "      <td>2.747358</td>\n",
              "      <td>54.444868</td>\n",
              "      <td>3.729488</td>\n",
              "      <td>1</td>\n",
              "      <td>2</td>\n",
              "    </tr>\n",
              "    <tr>\n",
              "      <th>3</th>\n",
              "      <td>427.0</td>\n",
              "      <td>202</td>\n",
              "      <td>194.8</td>\n",
              "      <td>430.4</td>\n",
              "      <td>44243</td>\n",
              "      <td>75882</td>\n",
              "      <td>17.1</td>\n",
              "      <td>342.637253</td>\n",
              "      <td>(42724.4, 45201]</td>\n",
              "      <td>42.8</td>\n",
              "      <td>...</td>\n",
              "      <td>45.3</td>\n",
              "      <td>25.0</td>\n",
              "      <td>91.744686</td>\n",
              "      <td>0.782626</td>\n",
              "      <td>1.161359</td>\n",
              "      <td>1.362643</td>\n",
              "      <td>51.021514</td>\n",
              "      <td>4.603841</td>\n",
              "      <td>2</td>\n",
              "      <td>3</td>\n",
              "    </tr>\n",
              "    <tr>\n",
              "      <th>4</th>\n",
              "      <td>57.0</td>\n",
              "      <td>26</td>\n",
              "      <td>144.4</td>\n",
              "      <td>350.1</td>\n",
              "      <td>49955</td>\n",
              "      <td>10321</td>\n",
              "      <td>12.5</td>\n",
              "      <td>0.000000</td>\n",
              "      <td>(48021.6, 51046.4]</td>\n",
              "      <td>48.3</td>\n",
              "      <td>...</td>\n",
              "      <td>44.0</td>\n",
              "      <td>22.7</td>\n",
              "      <td>94.104024</td>\n",
              "      <td>0.270192</td>\n",
              "      <td>0.665830</td>\n",
              "      <td>0.492135</td>\n",
              "      <td>54.027460</td>\n",
              "      <td>6.796657</td>\n",
              "      <td>1</td>\n",
              "      <td>1</td>\n",
              "    </tr>\n",
              "  </tbody>\n",
              "</table>\n",
              "<p>5 rows × 36 columns</p>\n",
              "</div>"
            ],
            "text/plain": [
              "   avgAnnCount  avgDeathsPerYear  TARGET_deathRate  incidenceRate  medIncome  \\\n",
              "0       1397.0               469             164.9          489.8      61898   \n",
              "1        173.0                70             161.3          411.6      48127   \n",
              "2        102.0                50             174.7          349.7      49348   \n",
              "3        427.0               202             194.8          430.4      44243   \n",
              "4         57.0                26             144.4          350.1      49955   \n",
              "\n",
              "   popEst2015  povertyPercent  studyPerCap           binnedInc  MedianAge  \\\n",
              "0      260131            11.2   499.748204   (61494.5, 125635]       39.3   \n",
              "1       43269            18.6    23.111234  (48021.6, 51046.4]       33.0   \n",
              "2       21026            14.6    47.560164  (48021.6, 51046.4]       45.0   \n",
              "3       75882            17.1   342.637253    (42724.4, 45201]       42.8   \n",
              "4       10321            12.5     0.000000  (48021.6, 51046.4]       48.3   \n",
              "\n",
              "   ...  PctPublicCoverage  PctPublicCoverageAlone   PctWhite  PctBlack  \\\n",
              "0  ...               32.9                    14.0  81.780529  2.594728   \n",
              "1  ...               31.1                    15.3  89.228509  0.969102   \n",
              "2  ...               42.1                    21.1  90.922190  0.739673   \n",
              "3  ...               45.3                    25.0  91.744686  0.782626   \n",
              "4  ...               44.0                    22.7  94.104024  0.270192   \n",
              "\n",
              "   PctAsian  PctOtherRace  PctMarriedHouseholds  BirthRate  TARGET_logistic  \\\n",
              "0  4.821857      1.843479             52.856076   6.118831                1   \n",
              "1  2.246233      3.741352             45.372500   4.333096                1   \n",
              "2  0.465898      2.747358             54.444868   3.729488                1   \n",
              "3  1.161359      1.362643             51.021514   4.603841                2   \n",
              "4  0.665830      0.492135             54.027460   6.796657                1   \n",
              "\n",
              "   TARGET_softmax  \n",
              "0               2  \n",
              "1               2  \n",
              "2               2  \n",
              "3               3  \n",
              "4               1  \n",
              "\n",
              "[5 rows x 36 columns]"
            ]
          },
          "execution_count": 4,
          "metadata": {},
          "output_type": "execute_result"
        }
      ],
      "source": [
        "cancer_df = pd.read_csv(\"cancer_reg.csv\")\n",
        "cancer_df.head()"
      ]
    },
    {
      "cell_type": "code",
      "execution_count": 5,
      "metadata": {},
      "outputs": [
        {
          "data": {
            "text/plain": [
              "(3047, 36)"
            ]
          },
          "execution_count": 5,
          "metadata": {},
          "output_type": "execute_result"
        }
      ],
      "source": [
        "cancer_df.shape"
      ]
    },
    {
      "cell_type": "code",
      "execution_count": 6,
      "metadata": {},
      "outputs": [
        {
          "name": "stdout",
          "output_type": "stream",
          "text": [
            "<class 'pandas.core.frame.DataFrame'>\n",
            "RangeIndex: 3047 entries, 0 to 3046\n",
            "Data columns (total 36 columns):\n",
            " #   Column                   Non-Null Count  Dtype  \n",
            "---  ------                   --------------  -----  \n",
            " 0   avgAnnCount              3047 non-null   float64\n",
            " 1   avgDeathsPerYear         3047 non-null   int64  \n",
            " 2   TARGET_deathRate         3047 non-null   float64\n",
            " 3   incidenceRate            3047 non-null   float64\n",
            " 4   medIncome                3047 non-null   int64  \n",
            " 5   popEst2015               3047 non-null   int64  \n",
            " 6   povertyPercent           3047 non-null   float64\n",
            " 7   studyPerCap              3047 non-null   float64\n",
            " 8   binnedInc                3047 non-null   object \n",
            " 9   MedianAge                3047 non-null   float64\n",
            " 10  MedianAgeMale            3047 non-null   float64\n",
            " 11  MedianAgeFemale          3047 non-null   float64\n",
            " 12  Geography                3047 non-null   object \n",
            " 13  AvgHouseholdSize         3047 non-null   float64\n",
            " 14  PercentMarried           3047 non-null   float64\n",
            " 15  PctNoHS18_24             3047 non-null   float64\n",
            " 16  PctHS18_24               3047 non-null   float64\n",
            " 17  PctSomeCol18_24          762 non-null    float64\n",
            " 18  PctBachDeg18_24          3047 non-null   float64\n",
            " 19  PctHS25_Over             3047 non-null   float64\n",
            " 20  PctBachDeg25_Over        3047 non-null   float64\n",
            " 21  PctEmployed16_Over       2895 non-null   float64\n",
            " 22  PctUnemployed16_Over     3047 non-null   float64\n",
            " 23  PctPrivateCoverage       3047 non-null   float64\n",
            " 24  PctPrivateCoverageAlone  2438 non-null   float64\n",
            " 25  PctEmpPrivCoverage       3047 non-null   float64\n",
            " 26  PctPublicCoverage        3047 non-null   float64\n",
            " 27  PctPublicCoverageAlone   3047 non-null   float64\n",
            " 28  PctWhite                 3047 non-null   float64\n",
            " 29  PctBlack                 3047 non-null   float64\n",
            " 30  PctAsian                 3047 non-null   float64\n",
            " 31  PctOtherRace             3047 non-null   float64\n",
            " 32  PctMarriedHouseholds     3047 non-null   float64\n",
            " 33  BirthRate                3047 non-null   float64\n",
            " 34  TARGET_logistic          3047 non-null   int64  \n",
            " 35  TARGET_softmax           3047 non-null   int64  \n",
            "dtypes: float64(29), int64(5), object(2)\n",
            "memory usage: 857.1+ KB\n"
          ]
        }
      ],
      "source": [
        "cancer_df.info()"
      ]
    },
    {
      "cell_type": "code",
      "execution_count": 7,
      "metadata": {},
      "outputs": [
        {
          "data": {
            "text/html": [
              "<div>\n",
              "<style scoped>\n",
              "    .dataframe tbody tr th:only-of-type {\n",
              "        vertical-align: middle;\n",
              "    }\n",
              "\n",
              "    .dataframe tbody tr th {\n",
              "        vertical-align: top;\n",
              "    }\n",
              "\n",
              "    .dataframe thead th {\n",
              "        text-align: right;\n",
              "    }\n",
              "</style>\n",
              "<table border=\"1\" class=\"dataframe\">\n",
              "  <thead>\n",
              "    <tr style=\"text-align: right;\">\n",
              "      <th></th>\n",
              "      <th>avgAnnCount</th>\n",
              "      <th>avgDeathsPerYear</th>\n",
              "      <th>TARGET_deathRate</th>\n",
              "      <th>incidenceRate</th>\n",
              "      <th>medIncome</th>\n",
              "      <th>popEst2015</th>\n",
              "      <th>povertyPercent</th>\n",
              "      <th>studyPerCap</th>\n",
              "      <th>MedianAge</th>\n",
              "      <th>MedianAgeMale</th>\n",
              "      <th>...</th>\n",
              "      <th>PctPublicCoverage</th>\n",
              "      <th>PctPublicCoverageAlone</th>\n",
              "      <th>PctWhite</th>\n",
              "      <th>PctBlack</th>\n",
              "      <th>PctAsian</th>\n",
              "      <th>PctOtherRace</th>\n",
              "      <th>PctMarriedHouseholds</th>\n",
              "      <th>BirthRate</th>\n",
              "      <th>TARGET_logistic</th>\n",
              "      <th>TARGET_softmax</th>\n",
              "    </tr>\n",
              "  </thead>\n",
              "  <tbody>\n",
              "    <tr>\n",
              "      <th>count</th>\n",
              "      <td>3047.000000</td>\n",
              "      <td>3047.000000</td>\n",
              "      <td>3047.000000</td>\n",
              "      <td>3047.000000</td>\n",
              "      <td>3047.000000</td>\n",
              "      <td>3.047000e+03</td>\n",
              "      <td>3047.000000</td>\n",
              "      <td>3047.000000</td>\n",
              "      <td>3047.000000</td>\n",
              "      <td>3047.000000</td>\n",
              "      <td>...</td>\n",
              "      <td>3047.000000</td>\n",
              "      <td>3047.000000</td>\n",
              "      <td>3047.000000</td>\n",
              "      <td>3047.000000</td>\n",
              "      <td>3047.000000</td>\n",
              "      <td>3047.000000</td>\n",
              "      <td>3047.000000</td>\n",
              "      <td>3047.000000</td>\n",
              "      <td>3047.000000</td>\n",
              "      <td>3047.000000</td>\n",
              "    </tr>\n",
              "    <tr>\n",
              "      <th>mean</th>\n",
              "      <td>606.338544</td>\n",
              "      <td>185.965868</td>\n",
              "      <td>178.664063</td>\n",
              "      <td>448.268586</td>\n",
              "      <td>47063.281917</td>\n",
              "      <td>1.026374e+05</td>\n",
              "      <td>16.878175</td>\n",
              "      <td>155.399415</td>\n",
              "      <td>45.272333</td>\n",
              "      <td>39.570725</td>\n",
              "      <td>...</td>\n",
              "      <td>36.252642</td>\n",
              "      <td>19.240072</td>\n",
              "      <td>83.645286</td>\n",
              "      <td>9.107978</td>\n",
              "      <td>1.253965</td>\n",
              "      <td>1.983523</td>\n",
              "      <td>51.243872</td>\n",
              "      <td>5.640306</td>\n",
              "      <td>1.467017</td>\n",
              "      <td>2.084345</td>\n",
              "    </tr>\n",
              "    <tr>\n",
              "      <th>std</th>\n",
              "      <td>1416.356223</td>\n",
              "      <td>504.134286</td>\n",
              "      <td>27.751511</td>\n",
              "      <td>54.560733</td>\n",
              "      <td>12040.090836</td>\n",
              "      <td>3.290592e+05</td>\n",
              "      <td>6.409087</td>\n",
              "      <td>529.628366</td>\n",
              "      <td>45.304480</td>\n",
              "      <td>5.226017</td>\n",
              "      <td>...</td>\n",
              "      <td>7.841741</td>\n",
              "      <td>6.113041</td>\n",
              "      <td>16.380025</td>\n",
              "      <td>14.534538</td>\n",
              "      <td>2.610276</td>\n",
              "      <td>3.517710</td>\n",
              "      <td>6.572814</td>\n",
              "      <td>1.985816</td>\n",
              "      <td>0.498993</td>\n",
              "      <td>0.737185</td>\n",
              "    </tr>\n",
              "    <tr>\n",
              "      <th>min</th>\n",
              "      <td>6.000000</td>\n",
              "      <td>3.000000</td>\n",
              "      <td>59.700000</td>\n",
              "      <td>201.300000</td>\n",
              "      <td>22640.000000</td>\n",
              "      <td>8.270000e+02</td>\n",
              "      <td>3.200000</td>\n",
              "      <td>0.000000</td>\n",
              "      <td>22.300000</td>\n",
              "      <td>22.400000</td>\n",
              "      <td>...</td>\n",
              "      <td>11.200000</td>\n",
              "      <td>2.600000</td>\n",
              "      <td>10.199155</td>\n",
              "      <td>0.000000</td>\n",
              "      <td>0.000000</td>\n",
              "      <td>0.000000</td>\n",
              "      <td>22.992490</td>\n",
              "      <td>0.000000</td>\n",
              "      <td>1.000000</td>\n",
              "      <td>1.000000</td>\n",
              "    </tr>\n",
              "    <tr>\n",
              "      <th>25%</th>\n",
              "      <td>76.000000</td>\n",
              "      <td>28.000000</td>\n",
              "      <td>161.200000</td>\n",
              "      <td>420.300000</td>\n",
              "      <td>38882.500000</td>\n",
              "      <td>1.168400e+04</td>\n",
              "      <td>12.150000</td>\n",
              "      <td>0.000000</td>\n",
              "      <td>37.700000</td>\n",
              "      <td>36.350000</td>\n",
              "      <td>...</td>\n",
              "      <td>30.900000</td>\n",
              "      <td>14.850000</td>\n",
              "      <td>77.296180</td>\n",
              "      <td>0.620675</td>\n",
              "      <td>0.254199</td>\n",
              "      <td>0.295172</td>\n",
              "      <td>47.763063</td>\n",
              "      <td>4.521419</td>\n",
              "      <td>1.000000</td>\n",
              "      <td>2.000000</td>\n",
              "    </tr>\n",
              "    <tr>\n",
              "      <th>50%</th>\n",
              "      <td>171.000000</td>\n",
              "      <td>61.000000</td>\n",
              "      <td>178.100000</td>\n",
              "      <td>453.549422</td>\n",
              "      <td>45207.000000</td>\n",
              "      <td>2.664300e+04</td>\n",
              "      <td>15.900000</td>\n",
              "      <td>0.000000</td>\n",
              "      <td>41.000000</td>\n",
              "      <td>39.600000</td>\n",
              "      <td>...</td>\n",
              "      <td>36.300000</td>\n",
              "      <td>18.800000</td>\n",
              "      <td>90.059774</td>\n",
              "      <td>2.247576</td>\n",
              "      <td>0.549812</td>\n",
              "      <td>0.826185</td>\n",
              "      <td>51.669941</td>\n",
              "      <td>5.381478</td>\n",
              "      <td>1.000000</td>\n",
              "      <td>2.000000</td>\n",
              "    </tr>\n",
              "    <tr>\n",
              "      <th>75%</th>\n",
              "      <td>518.000000</td>\n",
              "      <td>149.000000</td>\n",
              "      <td>195.200000</td>\n",
              "      <td>480.850000</td>\n",
              "      <td>52492.000000</td>\n",
              "      <td>6.867100e+04</td>\n",
              "      <td>20.400000</td>\n",
              "      <td>83.650776</td>\n",
              "      <td>44.000000</td>\n",
              "      <td>42.500000</td>\n",
              "      <td>...</td>\n",
              "      <td>41.550000</td>\n",
              "      <td>23.100000</td>\n",
              "      <td>95.451693</td>\n",
              "      <td>10.509732</td>\n",
              "      <td>1.221037</td>\n",
              "      <td>2.177960</td>\n",
              "      <td>55.395132</td>\n",
              "      <td>6.493677</td>\n",
              "      <td>2.000000</td>\n",
              "      <td>3.000000</td>\n",
              "    </tr>\n",
              "    <tr>\n",
              "      <th>max</th>\n",
              "      <td>38150.000000</td>\n",
              "      <td>14010.000000</td>\n",
              "      <td>362.800000</td>\n",
              "      <td>1206.900000</td>\n",
              "      <td>125635.000000</td>\n",
              "      <td>1.017029e+07</td>\n",
              "      <td>47.400000</td>\n",
              "      <td>9762.308998</td>\n",
              "      <td>624.000000</td>\n",
              "      <td>64.700000</td>\n",
              "      <td>...</td>\n",
              "      <td>65.100000</td>\n",
              "      <td>46.600000</td>\n",
              "      <td>100.000000</td>\n",
              "      <td>85.947799</td>\n",
              "      <td>42.619425</td>\n",
              "      <td>41.930251</td>\n",
              "      <td>78.075397</td>\n",
              "      <td>21.326165</td>\n",
              "      <td>2.000000</td>\n",
              "      <td>3.000000</td>\n",
              "    </tr>\n",
              "  </tbody>\n",
              "</table>\n",
              "<p>8 rows × 34 columns</p>\n",
              "</div>"
            ],
            "text/plain": [
              "        avgAnnCount  avgDeathsPerYear  TARGET_deathRate  incidenceRate  \\\n",
              "count   3047.000000       3047.000000       3047.000000    3047.000000   \n",
              "mean     606.338544        185.965868        178.664063     448.268586   \n",
              "std     1416.356223        504.134286         27.751511      54.560733   \n",
              "min        6.000000          3.000000         59.700000     201.300000   \n",
              "25%       76.000000         28.000000        161.200000     420.300000   \n",
              "50%      171.000000         61.000000        178.100000     453.549422   \n",
              "75%      518.000000        149.000000        195.200000     480.850000   \n",
              "max    38150.000000      14010.000000        362.800000    1206.900000   \n",
              "\n",
              "           medIncome    popEst2015  povertyPercent  studyPerCap    MedianAge  \\\n",
              "count    3047.000000  3.047000e+03     3047.000000  3047.000000  3047.000000   \n",
              "mean    47063.281917  1.026374e+05       16.878175   155.399415    45.272333   \n",
              "std     12040.090836  3.290592e+05        6.409087   529.628366    45.304480   \n",
              "min     22640.000000  8.270000e+02        3.200000     0.000000    22.300000   \n",
              "25%     38882.500000  1.168400e+04       12.150000     0.000000    37.700000   \n",
              "50%     45207.000000  2.664300e+04       15.900000     0.000000    41.000000   \n",
              "75%     52492.000000  6.867100e+04       20.400000    83.650776    44.000000   \n",
              "max    125635.000000  1.017029e+07       47.400000  9762.308998   624.000000   \n",
              "\n",
              "       MedianAgeMale  ...  PctPublicCoverage  PctPublicCoverageAlone  \\\n",
              "count    3047.000000  ...        3047.000000             3047.000000   \n",
              "mean       39.570725  ...          36.252642               19.240072   \n",
              "std         5.226017  ...           7.841741                6.113041   \n",
              "min        22.400000  ...          11.200000                2.600000   \n",
              "25%        36.350000  ...          30.900000               14.850000   \n",
              "50%        39.600000  ...          36.300000               18.800000   \n",
              "75%        42.500000  ...          41.550000               23.100000   \n",
              "max        64.700000  ...          65.100000               46.600000   \n",
              "\n",
              "          PctWhite     PctBlack     PctAsian  PctOtherRace  \\\n",
              "count  3047.000000  3047.000000  3047.000000   3047.000000   \n",
              "mean     83.645286     9.107978     1.253965      1.983523   \n",
              "std      16.380025    14.534538     2.610276      3.517710   \n",
              "min      10.199155     0.000000     0.000000      0.000000   \n",
              "25%      77.296180     0.620675     0.254199      0.295172   \n",
              "50%      90.059774     2.247576     0.549812      0.826185   \n",
              "75%      95.451693    10.509732     1.221037      2.177960   \n",
              "max     100.000000    85.947799    42.619425     41.930251   \n",
              "\n",
              "       PctMarriedHouseholds    BirthRate  TARGET_logistic  TARGET_softmax  \n",
              "count           3047.000000  3047.000000      3047.000000     3047.000000  \n",
              "mean              51.243872     5.640306         1.467017        2.084345  \n",
              "std                6.572814     1.985816         0.498993        0.737185  \n",
              "min               22.992490     0.000000         1.000000        1.000000  \n",
              "25%               47.763063     4.521419         1.000000        2.000000  \n",
              "50%               51.669941     5.381478         1.000000        2.000000  \n",
              "75%               55.395132     6.493677         2.000000        3.000000  \n",
              "max               78.075397    21.326165         2.000000        3.000000  \n",
              "\n",
              "[8 rows x 34 columns]"
            ]
          },
          "execution_count": 7,
          "metadata": {},
          "output_type": "execute_result"
        }
      ],
      "source": [
        "cancer_df.describe()"
      ]
    },
    {
      "cell_type": "code",
      "execution_count": 8,
      "metadata": {},
      "outputs": [
        {
          "name": "stdout",
          "output_type": "stream",
          "text": [
            "                         Total   Percent\n",
            "PctSomeCol18_24           2285  0.749918\n",
            "PctPrivateCoverageAlone    609  0.199869\n",
            "PctEmployed16_Over         152  0.049885\n"
          ]
        }
      ],
      "source": [
        "# Cek missing value\n",
        "def cek_null(df):\n",
        "    col_na = df.isnull().sum().sort_values(ascending=False)\n",
        "    percent = col_na / len(df)\n",
        "    \n",
        "    missing_data = pd.concat([col_na, percent], axis=1, keys=['Total', 'Percent'])\n",
        "    print(missing_data[missing_data['Total'] > 0])\n",
        "\n",
        "cek_null(cancer_df)\n"
      ]
    },
    {
      "cell_type": "code",
      "execution_count": 9,
      "metadata": {},
      "outputs": [
        {
          "data": {
            "text/plain": [
              "0"
            ]
          },
          "execution_count": 9,
          "metadata": {},
          "output_type": "execute_result"
        }
      ],
      "source": [
        "# Cek data duplicate\n",
        "cancer_df.duplicated().sum()"
      ]
    },
    {
      "cell_type": "code",
      "execution_count": 10,
      "metadata": {},
      "outputs": [
        {
          "data": {
            "text/plain": [
              "avgAnnCount                461\n",
              "avgDeathsPerYear           349\n",
              "TARGET_deathRate            64\n",
              "incidenceRate               93\n",
              "medIncome                  122\n",
              "popEst2015                 412\n",
              "povertyPercent              69\n",
              "studyPerCap                504\n",
              "MedianAge                   93\n",
              "MedianAgeMale               89\n",
              "MedianAgeFemale             78\n",
              "AvgHouseholdSize           201\n",
              "PercentMarried              68\n",
              "PctNoHS18_24                69\n",
              "PctHS18_24                  52\n",
              "PctSomeCol18_24             31\n",
              "PctBachDeg18_24             94\n",
              "PctHS25_Over                31\n",
              "PctBachDeg25_Over           82\n",
              "PctEmployed16_Over          20\n",
              "PctUnemployed16_Over        68\n",
              "PctPrivateCoverage          21\n",
              "PctPrivateCoverageAlone      4\n",
              "PctEmpPrivCoverage           9\n",
              "PctPublicCoverage           18\n",
              "PctPublicCoverageAlone      36\n",
              "PctWhite                   174\n",
              "PctBlack                   395\n",
              "PctAsian                   323\n",
              "PctOtherRace               297\n",
              "PctMarriedHouseholds       100\n",
              "BirthRate                  164\n",
              "TARGET_logistic              0\n",
              "TARGET_softmax               0\n",
              "dtype: int64"
            ]
          },
          "execution_count": 10,
          "metadata": {},
          "output_type": "execute_result"
        }
      ],
      "source": [
        "data = cancer_df.select_dtypes(exclude=\"object\")\n",
        "\n",
        "# Cek outlier\n",
        "Q1 = data.quantile(0.25)\n",
        "Q3 = data.quantile(0.75)\n",
        "IQR = Q3 - Q1\n",
        "((data < (Q1 - 1.5 * IQR)) | (data > (Q3 + 1.5 * IQR))).sum()"
      ]
    },
    {
      "cell_type": "markdown",
      "metadata": {},
      "source": [
        "Cek korelasi"
      ]
    },
    {
      "cell_type": "code",
      "execution_count": 11,
      "metadata": {},
      "outputs": [
        {
          "name": "stderr",
          "output_type": "stream",
          "text": [
            "<ipython-input-11-c807b72220f3>:3: DeprecationWarning: `np.bool` is a deprecated alias for the builtin `bool`. To silence this warning, use `bool` by itself. Doing this will not modify any behavior and is safe. If you specifically wanted the numpy scalar type, use `np.bool_` here.\n",
            "Deprecated in NumPy 1.20; for more details and guidance: https://numpy.org/devdocs/release/1.20.0-notes.html#deprecations\n",
            "  sns.heatmap(ax=ax,data=corr, mask=np.zeros_like(corr, dtype=np.bool), cmap=sns.diverging_palette(220, 10, as_cmap=True), square=True)\n"
          ]
        },
        {
          "data": {
            "text/plain": [
              "<AxesSubplot:>"
            ]
          },
          "execution_count": 11,
          "metadata": {},
          "output_type": "execute_result"
        },
        {
          "data": {
            "image/png": "[encoded data removed]",
            "text/plain": [
              "<Figure size 1080x1080 with 2 Axes>"
            ]
          },
          "metadata": {
            "needs_background": "light"
          },
          "output_type": "display_data"
        }
      ],
      "source": [
        "corr = cancer_df.corr()\n",
        "fig,ax = plt.subplots(1, figsize=(15,15))\n",
        "sns.heatmap(ax=ax,data=corr, mask=np.zeros_like(corr, dtype=np.bool), cmap=sns.diverging_palette(220, 10, as_cmap=True), square=True)"
      ]
    },
    {
      "cell_type": "markdown",
      "metadata": {
        "id": "64g80fVqBW4U"
      },
      "source": [
        "### Nomor 2\n",
        "[5] Berdasarkan eksplorasi anda pada nomor 1, lakukan data preparation hingga data tersebut menurut anda cukup “clean” dan dapat memberikan hasil regresi yang maksimal."
      ]
    },
    {
      "cell_type": "code",
      "execution_count": 12,
      "metadata": {},
      "outputs": [
        {
          "data": {
            "text/html": [
              "<div>\n",
              "<style scoped>\n",
              "    .dataframe tbody tr th:only-of-type {\n",
              "        vertical-align: middle;\n",
              "    }\n",
              "\n",
              "    .dataframe tbody tr th {\n",
              "        vertical-align: top;\n",
              "    }\n",
              "\n",
              "    .dataframe thead th {\n",
              "        text-align: right;\n",
              "    }\n",
              "</style>\n",
              "<table border=\"1\" class=\"dataframe\">\n",
              "  <thead>\n",
              "    <tr style=\"text-align: right;\">\n",
              "      <th></th>\n",
              "      <th>avgAnnCount</th>\n",
              "      <th>avgDeathsPerYear</th>\n",
              "      <th>TARGET_deathRate</th>\n",
              "      <th>incidenceRate</th>\n",
              "      <th>medIncome</th>\n",
              "      <th>popEst2015</th>\n",
              "      <th>povertyPercent</th>\n",
              "      <th>studyPerCap</th>\n",
              "      <th>binnedInc</th>\n",
              "      <th>MedianAge</th>\n",
              "      <th>...</th>\n",
              "      <th>PctPublicCoverage</th>\n",
              "      <th>PctPublicCoverageAlone</th>\n",
              "      <th>PctWhite</th>\n",
              "      <th>PctBlack</th>\n",
              "      <th>PctAsian</th>\n",
              "      <th>PctOtherRace</th>\n",
              "      <th>PctMarriedHouseholds</th>\n",
              "      <th>BirthRate</th>\n",
              "      <th>TARGET_logistic</th>\n",
              "      <th>TARGET_softmax</th>\n",
              "    </tr>\n",
              "  </thead>\n",
              "  <tbody>\n",
              "    <tr>\n",
              "      <th>0</th>\n",
              "      <td>1397.000000</td>\n",
              "      <td>469</td>\n",
              "      <td>164.9</td>\n",
              "      <td>489.800000</td>\n",
              "      <td>61898</td>\n",
              "      <td>260131</td>\n",
              "      <td>11.2</td>\n",
              "      <td>499.748204</td>\n",
              "      <td>(61494.5, 125635]</td>\n",
              "      <td>39.3</td>\n",
              "      <td>...</td>\n",
              "      <td>32.9</td>\n",
              "      <td>14.0</td>\n",
              "      <td>81.780529</td>\n",
              "      <td>2.594728</td>\n",
              "      <td>4.821857</td>\n",
              "      <td>1.843479</td>\n",
              "      <td>52.856076</td>\n",
              "      <td>6.118831</td>\n",
              "      <td>1</td>\n",
              "      <td>2</td>\n",
              "    </tr>\n",
              "    <tr>\n",
              "      <th>1</th>\n",
              "      <td>173.000000</td>\n",
              "      <td>70</td>\n",
              "      <td>161.3</td>\n",
              "      <td>411.600000</td>\n",
              "      <td>48127</td>\n",
              "      <td>43269</td>\n",
              "      <td>18.6</td>\n",
              "      <td>23.111234</td>\n",
              "      <td>(48021.6, 51046.4]</td>\n",
              "      <td>33.0</td>\n",
              "      <td>...</td>\n",
              "      <td>31.1</td>\n",
              "      <td>15.3</td>\n",
              "      <td>89.228509</td>\n",
              "      <td>0.969102</td>\n",
              "      <td>2.246233</td>\n",
              "      <td>3.741352</td>\n",
              "      <td>45.372500</td>\n",
              "      <td>4.333096</td>\n",
              "      <td>1</td>\n",
              "      <td>2</td>\n",
              "    </tr>\n",
              "    <tr>\n",
              "      <th>2</th>\n",
              "      <td>102.000000</td>\n",
              "      <td>50</td>\n",
              "      <td>174.7</td>\n",
              "      <td>349.700000</td>\n",
              "      <td>49348</td>\n",
              "      <td>21026</td>\n",
              "      <td>14.6</td>\n",
              "      <td>47.560164</td>\n",
              "      <td>(48021.6, 51046.4]</td>\n",
              "      <td>45.0</td>\n",
              "      <td>...</td>\n",
              "      <td>42.1</td>\n",
              "      <td>21.1</td>\n",
              "      <td>90.922190</td>\n",
              "      <td>0.739673</td>\n",
              "      <td>0.465898</td>\n",
              "      <td>2.747358</td>\n",
              "      <td>54.444868</td>\n",
              "      <td>3.729488</td>\n",
              "      <td>1</td>\n",
              "      <td>2</td>\n",
              "    </tr>\n",
              "    <tr>\n",
              "      <th>3</th>\n",
              "      <td>427.000000</td>\n",
              "      <td>202</td>\n",
              "      <td>194.8</td>\n",
              "      <td>430.400000</td>\n",
              "      <td>44243</td>\n",
              "      <td>75882</td>\n",
              "      <td>17.1</td>\n",
              "      <td>342.637253</td>\n",
              "      <td>(42724.4, 45201]</td>\n",
              "      <td>42.8</td>\n",
              "      <td>...</td>\n",
              "      <td>45.3</td>\n",
              "      <td>25.0</td>\n",
              "      <td>91.744686</td>\n",
              "      <td>0.782626</td>\n",
              "      <td>1.161359</td>\n",
              "      <td>1.362643</td>\n",
              "      <td>51.021514</td>\n",
              "      <td>4.603841</td>\n",
              "      <td>2</td>\n",
              "      <td>3</td>\n",
              "    </tr>\n",
              "    <tr>\n",
              "      <th>4</th>\n",
              "      <td>57.000000</td>\n",
              "      <td>26</td>\n",
              "      <td>144.4</td>\n",
              "      <td>350.100000</td>\n",
              "      <td>49955</td>\n",
              "      <td>10321</td>\n",
              "      <td>12.5</td>\n",
              "      <td>0.000000</td>\n",
              "      <td>(48021.6, 51046.4]</td>\n",
              "      <td>48.3</td>\n",
              "      <td>...</td>\n",
              "      <td>44.0</td>\n",
              "      <td>22.7</td>\n",
              "      <td>94.104024</td>\n",
              "      <td>0.270192</td>\n",
              "      <td>0.665830</td>\n",
              "      <td>0.492135</td>\n",
              "      <td>54.027460</td>\n",
              "      <td>6.796657</td>\n",
              "      <td>1</td>\n",
              "      <td>1</td>\n",
              "    </tr>\n",
              "    <tr>\n",
              "      <th>...</th>\n",
              "      <td>...</td>\n",
              "      <td>...</td>\n",
              "      <td>...</td>\n",
              "      <td>...</td>\n",
              "      <td>...</td>\n",
              "      <td>...</td>\n",
              "      <td>...</td>\n",
              "      <td>...</td>\n",
              "      <td>...</td>\n",
              "      <td>...</td>\n",
              "      <td>...</td>\n",
              "      <td>...</td>\n",
              "      <td>...</td>\n",
              "      <td>...</td>\n",
              "      <td>...</td>\n",
              "      <td>...</td>\n",
              "      <td>...</td>\n",
              "      <td>...</td>\n",
              "      <td>...</td>\n",
              "      <td>...</td>\n",
              "      <td>...</td>\n",
              "    </tr>\n",
              "    <tr>\n",
              "      <th>3042</th>\n",
              "      <td>1962.667684</td>\n",
              "      <td>15</td>\n",
              "      <td>149.6</td>\n",
              "      <td>453.549422</td>\n",
              "      <td>46961</td>\n",
              "      <td>6343</td>\n",
              "      <td>12.4</td>\n",
              "      <td>0.000000</td>\n",
              "      <td>(45201, 48021.6]</td>\n",
              "      <td>44.2</td>\n",
              "      <td>...</td>\n",
              "      <td>31.7</td>\n",
              "      <td>13.2</td>\n",
              "      <td>90.280811</td>\n",
              "      <td>3.837754</td>\n",
              "      <td>0.327613</td>\n",
              "      <td>1.700468</td>\n",
              "      <td>51.063830</td>\n",
              "      <td>7.773512</td>\n",
              "      <td>1</td>\n",
              "      <td>1</td>\n",
              "    </tr>\n",
              "    <tr>\n",
              "      <th>3043</th>\n",
              "      <td>1962.667684</td>\n",
              "      <td>43</td>\n",
              "      <td>150.1</td>\n",
              "      <td>453.549422</td>\n",
              "      <td>48609</td>\n",
              "      <td>37118</td>\n",
              "      <td>18.8</td>\n",
              "      <td>377.175494</td>\n",
              "      <td>(48021.6, 51046.4]</td>\n",
              "      <td>30.4</td>\n",
              "      <td>...</td>\n",
              "      <td>28.8</td>\n",
              "      <td>17.7</td>\n",
              "      <td>75.706245</td>\n",
              "      <td>2.326771</td>\n",
              "      <td>4.044920</td>\n",
              "      <td>14.130288</td>\n",
              "      <td>52.007937</td>\n",
              "      <td>8.186470</td>\n",
              "      <td>1</td>\n",
              "      <td>1</td>\n",
              "    </tr>\n",
              "    <tr>\n",
              "      <th>3044</th>\n",
              "      <td>1962.667684</td>\n",
              "      <td>46</td>\n",
              "      <td>153.9</td>\n",
              "      <td>453.549422</td>\n",
              "      <td>51144</td>\n",
              "      <td>34536</td>\n",
              "      <td>15.0</td>\n",
              "      <td>1968.959926</td>\n",
              "      <td>(51046.4, 54545.6]</td>\n",
              "      <td>30.9</td>\n",
              "      <td>...</td>\n",
              "      <td>26.6</td>\n",
              "      <td>16.8</td>\n",
              "      <td>87.961629</td>\n",
              "      <td>2.313188</td>\n",
              "      <td>1.316472</td>\n",
              "      <td>5.680705</td>\n",
              "      <td>55.153949</td>\n",
              "      <td>7.809192</td>\n",
              "      <td>1</td>\n",
              "      <td>1</td>\n",
              "    </tr>\n",
              "    <tr>\n",
              "      <th>3045</th>\n",
              "      <td>1962.667684</td>\n",
              "      <td>52</td>\n",
              "      <td>175.0</td>\n",
              "      <td>453.549422</td>\n",
              "      <td>50745</td>\n",
              "      <td>25609</td>\n",
              "      <td>13.3</td>\n",
              "      <td>0.000000</td>\n",
              "      <td>(48021.6, 51046.4]</td>\n",
              "      <td>39.0</td>\n",
              "      <td>...</td>\n",
              "      <td>29.5</td>\n",
              "      <td>14.0</td>\n",
              "      <td>92.905681</td>\n",
              "      <td>1.176562</td>\n",
              "      <td>0.244632</td>\n",
              "      <td>2.131790</td>\n",
              "      <td>58.484232</td>\n",
              "      <td>7.582938</td>\n",
              "      <td>1</td>\n",
              "      <td>2</td>\n",
              "    </tr>\n",
              "    <tr>\n",
              "      <th>3046</th>\n",
              "      <td>1962.667684</td>\n",
              "      <td>48</td>\n",
              "      <td>213.6</td>\n",
              "      <td>453.549422</td>\n",
              "      <td>41193</td>\n",
              "      <td>37030</td>\n",
              "      <td>13.9</td>\n",
              "      <td>0.000000</td>\n",
              "      <td>(40362.7, 42724.4]</td>\n",
              "      <td>26.2</td>\n",
              "      <td>...</td>\n",
              "      <td>25.1</td>\n",
              "      <td>12.6</td>\n",
              "      <td>70.098132</td>\n",
              "      <td>16.590100</td>\n",
              "      <td>3.177753</td>\n",
              "      <td>1.356457</td>\n",
              "      <td>56.040242</td>\n",
              "      <td>8.981723</td>\n",
              "      <td>2</td>\n",
              "      <td>3</td>\n",
              "    </tr>\n",
              "  </tbody>\n",
              "</table>\n",
              "<p>3047 rows × 36 columns</p>\n",
              "</div>"
            ],
            "text/plain": [
              "      avgAnnCount  avgDeathsPerYear  TARGET_deathRate  incidenceRate  \\\n",
              "0     1397.000000               469             164.9     489.800000   \n",
              "1      173.000000                70             161.3     411.600000   \n",
              "2      102.000000                50             174.7     349.700000   \n",
              "3      427.000000               202             194.8     430.400000   \n",
              "4       57.000000                26             144.4     350.100000   \n",
              "...           ...               ...               ...            ...   \n",
              "3042  1962.667684                15             149.6     453.549422   \n",
              "3043  1962.667684                43             150.1     453.549422   \n",
              "3044  1962.667684                46             153.9     453.549422   \n",
              "3045  1962.667684                52             175.0     453.549422   \n",
              "3046  1962.667684                48             213.6     453.549422   \n",
              "\n",
              "      medIncome  popEst2015  povertyPercent  studyPerCap           binnedInc  \\\n",
              "0         61898      260131            11.2   499.748204   (61494.5, 125635]   \n",
              "1         48127       43269            18.6    23.111234  (48021.6, 51046.4]   \n",
              "2         49348       21026            14.6    47.560164  (48021.6, 51046.4]   \n",
              "3         44243       75882            17.1   342.637253    (42724.4, 45201]   \n",
              "4         49955       10321            12.5     0.000000  (48021.6, 51046.4]   \n",
              "...         ...         ...             ...          ...                 ...   \n",
              "3042      46961        6343            12.4     0.000000    (45201, 48021.6]   \n",
              "3043      48609       37118            18.8   377.175494  (48021.6, 51046.4]   \n",
              "3044      51144       34536            15.0  1968.959926  (51046.4, 54545.6]   \n",
              "3045      50745       25609            13.3     0.000000  (48021.6, 51046.4]   \n",
              "3046      41193       37030            13.9     0.000000  (40362.7, 42724.4]   \n",
              "\n",
              "      MedianAge  ...  PctPublicCoverage  PctPublicCoverageAlone   PctWhite  \\\n",
              "0          39.3  ...               32.9                    14.0  81.780529   \n",
              "1          33.0  ...               31.1                    15.3  89.228509   \n",
              "2          45.0  ...               42.1                    21.1  90.922190   \n",
              "3          42.8  ...               45.3                    25.0  91.744686   \n",
              "4          48.3  ...               44.0                    22.7  94.104024   \n",
              "...         ...  ...                ...                     ...        ...   \n",
              "3042       44.2  ...               31.7                    13.2  90.280811   \n",
              "3043       30.4  ...               28.8                    17.7  75.706245   \n",
              "3044       30.9  ...               26.6                    16.8  87.961629   \n",
              "3045       39.0  ...               29.5                    14.0  92.905681   \n",
              "3046       26.2  ...               25.1                    12.6  70.098132   \n",
              "\n",
              "       PctBlack  PctAsian  PctOtherRace  PctMarriedHouseholds  BirthRate  \\\n",
              "0      2.594728  4.821857      1.843479             52.856076   6.118831   \n",
              "1      0.969102  2.246233      3.741352             45.372500   4.333096   \n",
              "2      0.739673  0.465898      2.747358             54.444868   3.729488   \n",
              "3      0.782626  1.161359      1.362643             51.021514   4.603841   \n",
              "4      0.270192  0.665830      0.492135             54.027460   6.796657   \n",
              "...         ...       ...           ...                   ...        ...   \n",
              "3042   3.837754  0.327613      1.700468             51.063830   7.773512   \n",
              "3043   2.326771  4.044920     14.130288             52.007937   8.186470   \n",
              "3044   2.313188  1.316472      5.680705             55.153949   7.809192   \n",
              "3045   1.176562  0.244632      2.131790             58.484232   7.582938   \n",
              "3046  16.590100  3.177753      1.356457             56.040242   8.981723   \n",
              "\n",
              "      TARGET_logistic  TARGET_softmax  \n",
              "0                   1               2  \n",
              "1                   1               2  \n",
              "2                   1               2  \n",
              "3                   2               3  \n",
              "4                   1               1  \n",
              "...               ...             ...  \n",
              "3042                1               1  \n",
              "3043                1               1  \n",
              "3044                1               1  \n",
              "3045                1               2  \n",
              "3046                2               3  \n",
              "\n",
              "[3047 rows x 36 columns]"
            ]
          },
          "execution_count": 12,
          "metadata": {},
          "output_type": "execute_result"
        }
      ],
      "source": [
        "# # Mengisi missing value dengan median\n",
        "# cancer_df.fillna(cancer_df.median(), inplace=True)\n",
        "from sklearn.impute import SimpleImputer\n",
        "imputer = SimpleImputer(strategy='median', missing_values=np.nan)\n",
        "imputer = imputer.fit(cancer_df[['PctSomeCol18_24','PctPrivateCoverageAlone', 'PctEmployed16_Over']])\n",
        "cancer_df[['PctSomeCol18_24','PctPrivateCoverageAlone', 'PctEmployed16_Over']] = imputer.transform(cancer_df[['PctSomeCol18_24','PctPrivateCoverageAlone', 'PctEmployed16_Over']])\n",
        "cancer_df"
      ]
    },
    {
      "cell_type": "markdown",
      "metadata": {},
      "source": [
        "Melihat data bukan numerik"
      ]
    },
    {
      "cell_type": "code",
      "execution_count": 13,
      "metadata": {},
      "outputs": [
        {
          "data": {
            "text/html": [
              "<div>\n",
              "<style scoped>\n",
              "    .dataframe tbody tr th:only-of-type {\n",
              "        vertical-align: middle;\n",
              "    }\n",
              "\n",
              "    .dataframe tbody tr th {\n",
              "        vertical-align: top;\n",
              "    }\n",
              "\n",
              "    .dataframe thead th {\n",
              "        text-align: right;\n",
              "    }\n",
              "</style>\n",
              "<table border=\"1\" class=\"dataframe\">\n",
              "  <thead>\n",
              "    <tr style=\"text-align: right;\">\n",
              "      <th></th>\n",
              "      <th>binnedInc</th>\n",
              "      <th>Geography</th>\n",
              "    </tr>\n",
              "  </thead>\n",
              "  <tbody>\n",
              "    <tr>\n",
              "      <th>0</th>\n",
              "      <td>(61494.5, 125635]</td>\n",
              "      <td>Kitsap County, Washington</td>\n",
              "    </tr>\n",
              "    <tr>\n",
              "      <th>1</th>\n",
              "      <td>(48021.6, 51046.4]</td>\n",
              "      <td>Kittitas County, Washington</td>\n",
              "    </tr>\n",
              "    <tr>\n",
              "      <th>2</th>\n",
              "      <td>(48021.6, 51046.4]</td>\n",
              "      <td>Klickitat County, Washington</td>\n",
              "    </tr>\n",
              "    <tr>\n",
              "      <th>3</th>\n",
              "      <td>(42724.4, 45201]</td>\n",
              "      <td>Lewis County, Washington</td>\n",
              "    </tr>\n",
              "    <tr>\n",
              "      <th>4</th>\n",
              "      <td>(48021.6, 51046.4]</td>\n",
              "      <td>Lincoln County, Washington</td>\n",
              "    </tr>\n",
              "    <tr>\n",
              "      <th>...</th>\n",
              "      <td>...</td>\n",
              "      <td>...</td>\n",
              "    </tr>\n",
              "    <tr>\n",
              "      <th>3042</th>\n",
              "      <td>(45201, 48021.6]</td>\n",
              "      <td>Ellsworth County, Kansas</td>\n",
              "    </tr>\n",
              "    <tr>\n",
              "      <th>3043</th>\n",
              "      <td>(48021.6, 51046.4]</td>\n",
              "      <td>Finney County, Kansas</td>\n",
              "    </tr>\n",
              "    <tr>\n",
              "      <th>3044</th>\n",
              "      <td>(51046.4, 54545.6]</td>\n",
              "      <td>Ford County, Kansas</td>\n",
              "    </tr>\n",
              "    <tr>\n",
              "      <th>3045</th>\n",
              "      <td>(48021.6, 51046.4]</td>\n",
              "      <td>Franklin County, Kansas</td>\n",
              "    </tr>\n",
              "    <tr>\n",
              "      <th>3046</th>\n",
              "      <td>(40362.7, 42724.4]</td>\n",
              "      <td>Geary County, Kansas</td>\n",
              "    </tr>\n",
              "  </tbody>\n",
              "</table>\n",
              "<p>3047 rows × 2 columns</p>\n",
              "</div>"
            ],
            "text/plain": [
              "               binnedInc                     Geography\n",
              "0      (61494.5, 125635]     Kitsap County, Washington\n",
              "1     (48021.6, 51046.4]   Kittitas County, Washington\n",
              "2     (48021.6, 51046.4]  Klickitat County, Washington\n",
              "3       (42724.4, 45201]      Lewis County, Washington\n",
              "4     (48021.6, 51046.4]    Lincoln County, Washington\n",
              "...                  ...                           ...\n",
              "3042    (45201, 48021.6]      Ellsworth County, Kansas\n",
              "3043  (48021.6, 51046.4]         Finney County, Kansas\n",
              "3044  (51046.4, 54545.6]           Ford County, Kansas\n",
              "3045  (48021.6, 51046.4]       Franklin County, Kansas\n",
              "3046  (40362.7, 42724.4]          Geary County, Kansas\n",
              "\n",
              "[3047 rows x 2 columns]"
            ]
          },
          "execution_count": 13,
          "metadata": {},
          "output_type": "execute_result"
        }
      ],
      "source": [
        "cancer_df.select_dtypes(include=\"object\")"
      ]
    },
    {
      "cell_type": "markdown",
      "metadata": {},
      "source": [
        "Memisahkan data numeric pada fitur binnedInc"
      ]
    },
    {
      "cell_type": "code",
      "execution_count": 14,
      "metadata": {},
      "outputs": [],
      "source": [
        "a = cancer_df.binnedInc.str.split(',', expand=True)\n",
        "a[0] = a[0].map(lambda x: x.lstrip('[(').rstrip('])'))\n",
        "a[1] = a[1].map(lambda x: x.lstrip('[(').rstrip('])'))\n",
        "\n",
        "a = a.apply(pd.to_numeric)\n",
        "cancer_df.drop(\"binnedInc\", axis=1, inplace=True)\n",
        "cancer_df[[\"min_binnedInc\", \"max_binnedInc\"]] = a"
      ]
    },
    {
      "cell_type": "markdown",
      "metadata": {},
      "source": [
        "#### Memisahkan county dan state pada fitur Geography\n",
        "Sebenarnya ada cara yang lebih baik menurut saya, dengan mencari titik tengah latitude dan longitude dari county , tetapi tidak diterapkan untuk saat ini karena memerlukan dataset lain. Selanjutnya"
      ]
    },
    {
      "cell_type": "code",
      "execution_count": 15,
      "metadata": {},
      "outputs": [],
      "source": [
        "a = cancer_df.Geography.str.split(',', expand=True)\n",
        "\n",
        "cancer_df.drop(\"Geography\", axis=1, inplace=True)\n",
        "cancer_df[[\"county\", \"state\"]] = a"
      ]
    },
    {
      "cell_type": "code",
      "execution_count": 16,
      "metadata": {},
      "outputs": [],
      "source": [
        "cancer_df = pd.get_dummies(cancer_df, columns=['state'], drop_first=True)"
      ]
    },
    {
      "cell_type": "markdown",
      "metadata": {},
      "source": [
        "Untuk outlier pada fitur saya tetapkan untuk sementara karena menurut saya outlier pada tiap fitur tidak terlalu signifikan. Apabila diperlukan, tentunya outlier tersebut akan dilakukan penggantian dengan nilai mediannya atau nilai pada batas quartil, atau bisa juga dilakukan drop terhadap rownya. Dan saat ini yang akan didrop hanya outlier pada target deatchRate"
      ]
    },
    {
      "cell_type": "code",
      "execution_count": 17,
      "metadata": {},
      "outputs": [],
      "source": [
        "# Mendrop outlier pada target\n",
        "# cols = cancer_df.columns\n",
        "# num_cols = cancer_df._get_numeric_data()\n",
        "\n",
        "# for col in num_cols:\n",
        "\n",
        "Q1 = cancer_df.TARGET_deathRate.quantile(0.25)\n",
        "Q3 = cancer_df.TARGET_deathRate.quantile(0.75)\n",
        "\n",
        "# Menghitung RUB dan RLB.\n",
        "IQR = Q3 - Q1\n",
        "lower_limit = Q1 - 1.5*IQR\n",
        "upper_limit = Q3 + 1.5*IQR\n",
        "\n",
        "cancer_df = cancer_df.loc[(cancer_df.TARGET_deathRate > lower_limit) & (cancer_df.TARGET_deathRate < upper_limit)]"
      ]
    },
    {
      "cell_type": "markdown",
      "metadata": {
        "id": "stkrtywMBaPo"
      },
      "source": [
        "### Nomor 3\n",
        "[10] Menurut Anda, apakah perlu dilakukan normalisasi terhadap data sebelum pemrosesan lebih lanjut, atau cukup menggunakan data asli? Jika ya, bentuk normalisasi apa yang tepat digunakan pada data? Jelaskan secara singkat alasan Anda!"
      ]
    },
    {
      "cell_type": "markdown",
      "metadata": {},
      "source": [
        "Normalisasi tidak berpengaruh pada output atau akurasi dari model regresi. Namun, normalisasi dapat sangat membantu pada regresi. Tujuan utama dari normalisasi fitur adalah untuk membantu konvergensi teknik yang digunakan untuk optimasi. Normalisasi dapat meningkatkan stabilitas numerik model dan mempercepat proses training dengan membantu algoritma untuk mencapai konvergen lebih cepat. Dengan demikian, menurut saya perlu dilakukan normalisasi dan bentuk normalisasi yang dapat digunakan adalah dengan menggunakan standard scaler atau mentansformasi rata-rata data menjadi 0 dan standar deviasi menjadi 1. Selain itu, hal ini juga memudahkan untuk interpretasi."
      ]
    },
    {
      "cell_type": "markdown",
      "metadata": {
        "id": "elZ3vXibBCnx"
      },
      "source": [
        "## **Regresi**\n",
        "(Penggunaan library diperbolehkan). Gunakan TARGET_deathRate sebagai kolom target."
      ]
    },
    {
      "cell_type": "markdown",
      "metadata": {
        "id": "aj4_DFwQBgAO"
      },
      "source": [
        "### Nomor 1\n",
        "[15] Implementasikan Linear Regression pada data hasil preprocessing. Gunakan Method dari library sklearn.\n",
        "\n",
        "a. Tampilkan visualisasi hasil prediksi\n",
        "\n",
        "b. Tampilkan nilai MSE, MAE, RMSE, dan R2 Square"
      ]
    },
    {
      "cell_type": "code",
      "execution_count": 18,
      "metadata": {},
      "outputs": [],
      "source": [
        "X = cancer_df.drop([\"TARGET_logistic\", \"TARGET_deathRate\", \"TARGET_softmax\"], axis=1).select_dtypes(exclude=\"object\")\n",
        "y = cancer_df[[\"TARGET_deathRate\"]]\n",
        "X_train, X_test, y_train, y_test = train_test_split(X, y, test_size = 0.3, random_state=42)\n",
        "  "
      ]
    },
    {
      "cell_type": "code",
      "execution_count": 19,
      "metadata": {},
      "outputs": [
        {
          "data": {
            "text/plain": [
              "Pipeline(steps=[('standardscaler', StandardScaler()),\n",
              "                ('linearregression', LinearRegression())])"
            ]
          },
          "execution_count": 19,
          "metadata": {},
          "output_type": "execute_result"
        }
      ],
      "source": [
        "pipe = make_pipeline(StandardScaler(), LinearRegression())\n",
        "pipe.fit(X_train, y_train)  # apply scaling on training data"
      ]
    },
    {
      "cell_type": "code",
      "execution_count": 20,
      "metadata": {},
      "outputs": [],
      "source": [
        "y_pred = pipe.predict(X_test)"
      ]
    },
    {
      "cell_type": "code",
      "execution_count": 21,
      "metadata": {},
      "outputs": [
        {
          "name": "stdout",
          "output_type": "stream",
          "text": [
            "Coefficient: [[-2.49078309e+01  2.65763651e+01  8.41430876e+00  2.08136089e+00\n",
            "  -2.62982550e+00 -3.40046781e+00  4.62330429e-01  4.17389865e-01\n",
            "  -3.34033571e+00  3.37421264e-01 -3.21264746e-01  4.04914945e+00\n",
            "  -1.67040971e-01  5.81838992e-01  3.41235221e-02 -8.58017940e-01\n",
            "   3.80702969e+00 -4.03717494e+00 -2.68633230e+00  1.67819293e+00\n",
            "  -3.20807014e-01 -3.36996902e-01  1.65385259e-01 -2.26770258e+00\n",
            "   3.71207137e+00 -2.44043318e+00 -2.73684774e+00 -2.96967643e-01\n",
            "  -2.00239218e+00 -6.00090203e+00 -1.04735777e+00 -4.58268807e+00\n",
            "   1.20760783e+00  1.63939947e-01 -1.67112898e+00  1.27685597e+00\n",
            "  -1.64143883e+00 -2.35608099e+00 -8.59898027e-01 -2.79786843e-01\n",
            "   8.41148392e-02 -4.81337811e-01 -1.23923073e+00 -3.48517205e-01\n",
            "  -2.08502750e+00 -5.08590584e-01  5.58141493e-01 -2.35050365e+00\n",
            "   4.37418715e+00  1.21555971e+00  6.24533661e-02 -1.09299726e-02\n",
            "  -7.40898697e-03 -2.31202986e-01 -1.52897109e-01  2.38910309e+00\n",
            "   6.08040545e-01  1.27945069e+00 -2.03001020e+00 -1.30763261e+00\n",
            "   1.15551212e+00 -1.84440202e-01 -4.29150266e-01 -1.67225303e+00\n",
            "  -1.75724691e+00 -7.98447149e-01 -4.68722847e-01 -1.49521319e-01\n",
            "   1.44506633e+00 -6.79585223e-01 -2.06018338e+00 -3.74964125e-01\n",
            "   2.24496941e-01 -1.21819347e+00  9.97592784e-01  4.00890191e-01\n",
            "  -1.81621954e+00 -7.79131362e-02  9.50982158e-01 -7.35752282e-01\n",
            "  -5.42358125e-02 -9.62407296e-01 -4.54549186e-01]]\n",
            "Intercept: [177.2197318]\n",
            "\n",
            "Mean squared error:  308.8984672136839\n",
            "Mean absolute error:  13.044255821752676\n",
            "Root mean squared error:  17.575507594766187\n",
            "R2 score:  0.4994997344238573\n"
          ]
        }
      ],
      "source": [
        "from sklearn.metrics import mean_absolute_error, mean_squared_error, r2_score\n",
        "\n",
        "# regression\n",
        "print('Coefficient:' ,pipe.named_steps['linearregression'].coef_)\n",
        "print('Intercept:', pipe.named_steps['linearregression'].intercept_)\n",
        "\n",
        "# metrics\n",
        "print(\"\")\n",
        "print('Mean squared error: ', mean_squared_error(y_test, y_pred))\n",
        "print('Mean absolute error: ', mean_absolute_error(y_test, y_pred))\n",
        "print('Root mean squared error: ', np.sqrt(mean_squared_error(y_test, y_pred)))\n",
        "print('R2 score: ', r2_score(y_test, y_pred))\n"
      ]
    },
    {
      "cell_type": "code",
      "execution_count": 22,
      "metadata": {},
      "outputs": [
        {
          "data": {
            "text/html": [
              "<div>\n",
              "<style scoped>\n",
              "    .dataframe tbody tr th:only-of-type {\n",
              "        vertical-align: middle;\n",
              "    }\n",
              "\n",
              "    .dataframe tbody tr th {\n",
              "        vertical-align: top;\n",
              "    }\n",
              "\n",
              "    .dataframe thead th {\n",
              "        text-align: right;\n",
              "    }\n",
              "</style>\n",
              "<table border=\"1\" class=\"dataframe\">\n",
              "  <thead>\n",
              "    <tr style=\"text-align: right;\">\n",
              "      <th></th>\n",
              "      <th>death_rate (predicted)</th>\n",
              "      <th>death_rate (actual)</th>\n",
              "    </tr>\n",
              "  </thead>\n",
              "  <tbody>\n",
              "    <tr>\n",
              "      <th>2455</th>\n",
              "      <td>159.693281</td>\n",
              "      <td>161.5</td>\n",
              "    </tr>\n",
              "    <tr>\n",
              "      <th>1583</th>\n",
              "      <td>174.651112</td>\n",
              "      <td>164.4</td>\n",
              "    </tr>\n",
              "    <tr>\n",
              "      <th>896</th>\n",
              "      <td>175.576189</td>\n",
              "      <td>157.0</td>\n",
              "    </tr>\n",
              "    <tr>\n",
              "      <th>334</th>\n",
              "      <td>193.567105</td>\n",
              "      <td>180.0</td>\n",
              "    </tr>\n",
              "    <tr>\n",
              "      <th>1873</th>\n",
              "      <td>181.346717</td>\n",
              "      <td>181.9</td>\n",
              "    </tr>\n",
              "    <tr>\n",
              "      <th>...</th>\n",
              "      <td>...</td>\n",
              "      <td>...</td>\n",
              "    </tr>\n",
              "    <tr>\n",
              "      <th>2223</th>\n",
              "      <td>182.075245</td>\n",
              "      <td>178.4</td>\n",
              "    </tr>\n",
              "    <tr>\n",
              "      <th>1849</th>\n",
              "      <td>192.304241</td>\n",
              "      <td>178.7</td>\n",
              "    </tr>\n",
              "    <tr>\n",
              "      <th>1317</th>\n",
              "      <td>172.339824</td>\n",
              "      <td>182.9</td>\n",
              "    </tr>\n",
              "    <tr>\n",
              "      <th>2693</th>\n",
              "      <td>194.636063</td>\n",
              "      <td>205.1</td>\n",
              "    </tr>\n",
              "    <tr>\n",
              "      <th>300</th>\n",
              "      <td>182.136924</td>\n",
              "      <td>170.7</td>\n",
              "    </tr>\n",
              "  </tbody>\n",
              "</table>\n",
              "<p>895 rows × 2 columns</p>\n",
              "</div>"
            ],
            "text/plain": [
              "      death_rate (predicted)  death_rate (actual)\n",
              "2455              159.693281                161.5\n",
              "1583              174.651112                164.4\n",
              "896               175.576189                157.0\n",
              "334               193.567105                180.0\n",
              "1873              181.346717                181.9\n",
              "...                      ...                  ...\n",
              "2223              182.075245                178.4\n",
              "1849              192.304241                178.7\n",
              "1317              172.339824                182.9\n",
              "2693              194.636063                205.1\n",
              "300               182.136924                170.7\n",
              "\n",
              "[895 rows x 2 columns]"
            ]
          },
          "execution_count": 22,
          "metadata": {},
          "output_type": "execute_result"
        }
      ],
      "source": [
        "data = pd.DataFrame({'death_rate (predicted)': y_pred.flatten(), 'death_rate (actual)': y_test.TARGET_deathRate})\n",
        "data"
      ]
    },
    {
      "cell_type": "code",
      "execution_count": 23,
      "metadata": {},
      "outputs": [
        {
          "data": {
            "image/png": "[encoded data removed]",
            "text/plain": [
              "<Figure size 1080x720 with 1 Axes>"
            ]
          },
          "metadata": {
            "needs_background": "light"
          },
          "output_type": "display_data"
        }
      ],
      "source": [
        "## Visualisasi hasil prediksi \n",
        "data = data[['death_rate (predicted)', 'death_rate (actual)']]       # Mengambil atribut actual dan predicted saja dari dataframe\n",
        "df_temp = data.head(20)\n",
        "df_temp.plot(kind='bar',figsize=(15,10))\n",
        "plt.grid(which='major', linestyle='-', linewidth='0.5', color='green')\n",
        "plt.show()"
      ]
    },
    {
      "cell_type": "code",
      "execution_count": 24,
      "metadata": {},
      "outputs": [
        {
          "name": "stderr",
          "output_type": "stream",
          "text": [
            "C:\\ProgramData\\Anaconda3\\lib\\site-packages\\seaborn\\_decorators.py:36: FutureWarning: Pass the following variables as keyword args: x, y. From version 0.12, the only valid positional argument will be `data`, and passing other arguments without an explicit keyword will result in an error or misinterpretation.\n",
            "  warnings.warn(\n"
          ]
        },
        {
          "data": {
            "text/plain": [
              "<AxesSubplot:xlabel='TARGET_deathRate'>"
            ]
          },
          "execution_count": 24,
          "metadata": {},
          "output_type": "execute_result"
        },
        {
          "data": {
            "image/png": "[encoded data removed]",
            "text/plain": [
              "<Figure size 432x288 with 1 Axes>"
            ]
          },
          "metadata": {
            "needs_background": "light"
          },
          "output_type": "display_data"
        }
      ],
      "source": [
        "# jawaban a. plot perbandingan y test dan y prediction\n",
        "sns.regplot(y_test,y_pred)"
      ]
    },
    {
      "cell_type": "markdown",
      "metadata": {
        "id": "coDGghwsBoSX"
      },
      "source": [
        "### Nomor 2\n",
        "[15] Implementasikan Ridge Regression pada data hasil preprocessing. Gunakan method dari library sklearn.\n",
        "\n",
        "a. Tampilkan nilai R2 Square\n",
        "\n",
        "b. Coba ubah parameter alpha dengan nilai yang lebih besar dan analisis bagaimana hubungan perubahan parameter tersebut dengan kualitas hasil regresi.\n"
      ]
    },
    {
      "cell_type": "code",
      "execution_count": 25,
      "metadata": {},
      "outputs": [],
      "source": [
        "X_train, X_test, y_train, y_test = train_test_split(X, y, random_state=42, test_size=0.3)"
      ]
    },
    {
      "cell_type": "code",
      "execution_count": 26,
      "metadata": {},
      "outputs": [
        {
          "data": {
            "text/plain": [
              "Pipeline(steps=[('standardscaler', StandardScaler()),\n",
              "                ('ridge', Ridge(alpha=0.01))])"
            ]
          },
          "execution_count": 26,
          "metadata": {},
          "output_type": "execute_result"
        }
      ],
      "source": [
        "pipe = make_pipeline(StandardScaler(), Ridge(alpha=0.01))\n",
        "pipe.fit(X_train, y_train)  # apply scaling on training data"
      ]
    },
    {
      "cell_type": "code",
      "execution_count": 27,
      "metadata": {},
      "outputs": [
        {
          "name": "stdout",
          "output_type": "stream",
          "text": [
            "16.51388128779009\n",
            "0.5664926981471896\n",
            "17.573803391377407\n",
            "0.4995967914096502\n"
          ]
        }
      ],
      "source": [
        "pred_train_rr= pipe.predict(X_train)\n",
        "print(np.sqrt(mean_squared_error(y_train,pred_train_rr)))\n",
        "print(r2_score(y_train, pred_train_rr))\n",
        "\n",
        "pred_test_rr= pipe.predict(X_test)\n",
        "print(np.sqrt(mean_squared_error(y_test,pred_test_rr))) \n",
        "print(r2_score(y_test, pred_test_rr))"
      ]
    },
    {
      "cell_type": "code",
      "execution_count": 28,
      "metadata": {},
      "outputs": [
        {
          "data": {
            "text/plain": [
              "Pipeline(steps=[('standardscaler', StandardScaler()),\n",
              "                ('ridge', Ridge(alpha=100000))])"
            ]
          },
          "execution_count": 28,
          "metadata": {},
          "output_type": "execute_result"
        }
      ],
      "source": [
        "pipe = make_pipeline(StandardScaler(), Ridge(alpha=100000))\n",
        "pipe.fit(X_train, y_train)  # apply scaling on training data"
      ]
    },
    {
      "cell_type": "code",
      "execution_count": 29,
      "metadata": {},
      "outputs": [
        {
          "name": "stdout",
          "output_type": "stream",
          "text": [
            "23.867355122803396\n",
            "0.09446197766646514\n",
            "23.728533316598394\n",
            "0.08771538946787993\n"
          ]
        }
      ],
      "source": [
        "pred_train_rr= pipe.predict(X_train)\n",
        "print(np.sqrt(mean_squared_error(y_train,pred_train_rr)))\n",
        "print(r2_score(y_train, pred_train_rr))\n",
        "\n",
        "pred_test_rr= pipe.predict(X_test)\n",
        "print(np.sqrt(mean_squared_error(y_test,pred_test_rr))) \n",
        "print(r2_score(y_test, pred_test_rr))"
      ]
    },
    {
      "cell_type": "markdown",
      "metadata": {},
      "source": [
        "Saat alpha meningkat, kompleksitas model berkurang. Menaikkan tingkat alpha bisa mengurangi overfitting, bahkan hingga membuatnya menjadi underfitting. Membuat alpha menjadi infinity bisa membuat weight model menjadi 0. Dapat dilihat mean squared errornya semakin meningkat dan koefisien determinasinya menjadi berkurang saat alpha pada kasus ini dinaikkan yang berarti model regresi menjadi kurang dapat memprediksi nilai target secara signifikan"
      ]
    },
    {
      "cell_type": "markdown",
      "metadata": {
        "id": "1waX1EvFBtrk"
      },
      "source": [
        "### Nomor 3\n",
        "[15] Implementasikan Lasso Regression pada data hasil preprocessing. Gunakan method dari library sklearn.\n",
        "\n",
        "a. Tampilkan nilai R2 Square\n",
        "\n",
        "b. Coba ubah parameter alpha dengan nilai yang lebih besar dan analisis bagaimana hubungan perubahan parameter tersebut dengan kualitas hasil regresi.\n"
      ]
    },
    {
      "cell_type": "markdown",
      "metadata": {
        "id": "wE8trQwoBztz"
      },
      "source": [
        "NOTE: Parameter alpha adalah parameter yang merepresentasikan “kekuatan” dari regularisasi yang dilakukan oleh model. Regularisasi adalah teknik modifikasi yang digunakan untuk mengurangi *generalization error*, dengan kata lain menghindari *overfitting*. Hal ini dilakukan dengan memberikan batasan/*constraint* atau penambahan penalti pada parameter/atribut yang kita gunakan. Untuk lebih jelas, silahkan baca dokumentasi model Ridge dan Lasso yang ada pada link berikut : [API Reference — scikit-learn 1.0.1 documentation ](https://scikit-learn.org/stable/modules/classes.html#module-sklearn.linear_model)"
      ]
    },
    {
      "cell_type": "code",
      "execution_count": 30,
      "metadata": {
        "id": "Ll--PQvDB0ia"
      },
      "outputs": [],
      "source": [
        "# from sklearn.preprocessing import scale \n",
        "\n",
        "# alphas = 10**np.linspace(10,-2,100)*0.5\n",
        "\n",
        "# lasso = Lasso(max_iter = 10000, normalize = True)\n",
        "# coefs = []\n",
        "\n",
        "# for a in alphas:\n",
        "#     lasso.set_params(alpha=a)\n",
        "#     lasso.fit(scale(X_train), y_train)\n",
        "#     coefs.append(lasso.coef_)\n",
        "    \n",
        "# ax = plt.gca()\n",
        "# ax.plot(alphas*2, coefs)\n",
        "# ax.set_xscale('log')\n",
        "# plt.axis('tight')\n",
        "# plt.xlabel('alpha')\n",
        "# plt.ylabel('weights')"
      ]
    },
    {
      "cell_type": "code",
      "execution_count": 31,
      "metadata": {},
      "outputs": [],
      "source": [
        "X_train, X_test, y_train, y_test = train_test_split(X, y, random_state=42, test_size=0.3)"
      ]
    },
    {
      "cell_type": "code",
      "execution_count": 32,
      "metadata": {},
      "outputs": [
        {
          "data": {
            "text/plain": [
              "Pipeline(steps=[('standardscaler', StandardScaler()),\n",
              "                ('lasso', Lasso(alpha=0.01, max_iter=10000))])"
            ]
          },
          "execution_count": 32,
          "metadata": {},
          "output_type": "execute_result"
        }
      ],
      "source": [
        "lasso = Lasso(max_iter = 10000, alpha=0.01)\n",
        "pipe = make_pipeline(StandardScaler(), lasso)\n",
        "pipe.fit(X_train, y_train)"
      ]
    },
    {
      "cell_type": "code",
      "execution_count": 33,
      "metadata": {},
      "outputs": [
        {
          "name": "stdout",
          "output_type": "stream",
          "text": [
            "16.5176504531378\n",
            "0.5662947862037675\n",
            "17.40614186589211\n",
            "0.5090993618533637\n"
          ]
        }
      ],
      "source": [
        "pred_train_lasso= pipe.predict(X_train)\n",
        "print(np.sqrt(mean_squared_error(y_train,pred_train_lasso)))\n",
        "print(r2_score(y_train, pred_train_lasso))\n",
        "\n",
        "pred_test_lasso= pipe.predict(X_test)\n",
        "print(np.sqrt(mean_squared_error(y_test,pred_test_lasso))) \n",
        "print(r2_score(y_test, pred_test_lasso))"
      ]
    },
    {
      "cell_type": "code",
      "execution_count": 34,
      "metadata": {},
      "outputs": [
        {
          "data": {
            "text/plain": [
              "Pipeline(steps=[('standardscaler', StandardScaler()),\n",
              "                ('lasso', Lasso(alpha=10, max_iter=10000))])"
            ]
          },
          "execution_count": 34,
          "metadata": {},
          "output_type": "execute_result"
        }
      ],
      "source": [
        "X_train, X_test, y_train, y_test = train_test_split(X, y, random_state=42, test_size=0.3)\n",
        "\n",
        "lasso = Lasso(max_iter = 10000, alpha=10)\n",
        "pipe = make_pipeline(StandardScaler(), lasso)\n",
        "pipe.fit(X_train, y_train)"
      ]
    },
    {
      "cell_type": "code",
      "execution_count": 35,
      "metadata": {},
      "outputs": [
        {
          "name": "stdout",
          "output_type": "stream",
          "text": [
            "24.244227574921332\n",
            "0.06563878148796554\n",
            "24.1596243289213\n",
            "0.054266195524586114\n"
          ]
        }
      ],
      "source": [
        "pred_train_lasso= pipe.predict(X_train)\n",
        "print(np.sqrt(mean_squared_error(y_train,pred_train_lasso)))\n",
        "print(r2_score(y_train, pred_train_lasso))\n",
        "\n",
        "pred_test_lasso= pipe.predict(X_test)\n",
        "print(np.sqrt(mean_squared_error(y_test,pred_test_lasso))) \n",
        "print(r2_score(y_test, pred_test_lasso))"
      ]
    },
    {
      "cell_type": "markdown",
      "metadata": {},
      "source": [
        "Saat alpha meningkat, kompleksitas model berkurang. Menaikkan tingkat alpha bisa mengurangi overfitting, bahkan hingga membuatnya menjadi underfitting. Membuat alpha menjadi infinity bisa membuat weight model menjadi 0. Dapat dilihat mean squared errornya semakin meningkat dan koefisien determinasinya menjadi berkurang saat alpha pada kasus ini dinaikkan yang berarti model regresi menjadi kurang dapat memprediksi nilai target secara signifikan"
      ]
    },
    {
      "cell_type": "markdown",
      "metadata": {
        "id": "WbJQZUllBFmw"
      },
      "source": [
        "## Logistic and Softmax Regression"
      ]
    },
    {
      "cell_type": "markdown",
      "metadata": {
        "id": "VjgFpFMUB2Ak"
      },
      "source": [
        "### Nomor 1\n",
        "[15] Implementasikan Logistic Regression dengan target yang digunakan adalah kolom TARGET_logistic. Gunakan method dari library sklearn.\n",
        "\n",
        "a. Visualisasikan hasil regression yang didapat dengan membandingkan hasil prediksi dan nilai target aktual.\n",
        "\n",
        "b. Tampilkan rata-rata akurasi yang didapat (baca method .score() pada dokumentasi sklearn)\n"
      ]
    },
    {
      "cell_type": "code",
      "execution_count": 36,
      "metadata": {},
      "outputs": [],
      "source": [
        "X = cancer_df.drop([\"TARGET_logistic\", \"TARGET_deathRate\", \"TARGET_softmax\"], axis=1).select_dtypes(exclude=\"object\")\n",
        "y = cancer_df[[\"TARGET_logistic\"]]"
      ]
    },
    {
      "cell_type": "code",
      "execution_count": 37,
      "metadata": {
        "id": "i7MSiWVRBH5C"
      },
      "outputs": [],
      "source": [
        "X_train,X_test,y_train,y_test=train_test_split(X,y,test_size=0.3)"
      ]
    },
    {
      "cell_type": "code",
      "execution_count": 38,
      "metadata": {},
      "outputs": [],
      "source": [
        "pipe = make_pipeline(StandardScaler(), LogisticRegression(max_iter=10000))"
      ]
    },
    {
      "cell_type": "code",
      "execution_count": 39,
      "metadata": {},
      "outputs": [],
      "source": [
        "# fit the model with data\n",
        "pipe.fit(X_train,y_train.values.ravel())\n",
        "y_pred=pipe.predict(X_test)"
      ]
    },
    {
      "cell_type": "code",
      "execution_count": 40,
      "metadata": {},
      "outputs": [
        {
          "data": {
            "text/plain": [
              "array([[375,  96],\n",
              "       [104, 320]], dtype=int64)"
            ]
          },
          "execution_count": 40,
          "metadata": {},
          "output_type": "execute_result"
        }
      ],
      "source": [
        "\n",
        "cnf_matrix = metrics.confusion_matrix(y_test, y_pred)\n",
        "cnf_matrix"
      ]
    },
    {
      "cell_type": "code",
      "execution_count": 41,
      "metadata": {},
      "outputs": [
        {
          "data": {
            "text/plain": [
              "Text(0.5, 257.44, 'Predicted label')"
            ]
          },
          "execution_count": 41,
          "metadata": {},
          "output_type": "execute_result"
        },
        {
          "data": {
            "image/png": "[encoded data removed]",
            "text/plain": [
              "<Figure size 432x288 with 2 Axes>"
            ]
          },
          "metadata": {
            "needs_background": "light"
          },
          "output_type": "display_data"
        }
      ],
      "source": [
        "class_names=[0,1] # name  of classes\n",
        "fig, ax = plt.subplots()\n",
        "tick_marks = np.arange(len(class_names))\n",
        "plt.xticks(tick_marks, class_names)\n",
        "plt.yticks(tick_marks, class_names)\n",
        "# create heatmap\n",
        "sns.heatmap(pd.DataFrame(cnf_matrix), annot=True, cmap=\"YlGnBu\" ,fmt='g')\n",
        "ax.xaxis.set_label_position(\"top\")\n",
        "plt.tight_layout()\n",
        "plt.title('Confusion matrix', y=1.1)\n",
        "plt.ylabel('Actual label')\n",
        "plt.xlabel('Predicted label')"
      ]
    },
    {
      "cell_type": "code",
      "execution_count": 42,
      "metadata": {},
      "outputs": [
        {
          "name": "stdout",
          "output_type": "stream",
          "text": [
            "Accuracy: 0.776536312849162\n",
            "Precision: 0.7828810020876826\n",
            "Recall: 0.7961783439490446\n"
          ]
        }
      ],
      "source": [
        "print(\"Accuracy:\",metrics.accuracy_score(y_test, y_pred))\n",
        "print(\"Precision:\",metrics.precision_score(y_test, y_pred))\n",
        "print(\"Recall:\",metrics.recall_score(y_test, y_pred))"
      ]
    },
    {
      "cell_type": "markdown",
      "metadata": {
        "id": "aN9ZAhRmB4q4"
      },
      "source": [
        "### Nomor 2\n",
        "[15] Implementasikan Softmax Regression dengan target yang digunakan adalah kolom TARGET_softmax. Gunakan method dari library sklearn.\n",
        "\n",
        "a. Visualisasikan hasil regression yang didapat dengan membandingkan hasil prediksi dan nilai target aktual.\n",
        "\n",
        "b. Tampilkan rata-rata akurasi yang didapat.\n"
      ]
    },
    {
      "cell_type": "code",
      "execution_count": 43,
      "metadata": {},
      "outputs": [],
      "source": [
        "X = cancer_df.drop([\"TARGET_logistic\", \"TARGET_deathRate\", \"TARGET_softmax\"], axis=1).select_dtypes(exclude=\"object\")\n",
        "y = cancer_df[\"TARGET_softmax\"]"
      ]
    },
    {
      "cell_type": "code",
      "execution_count": 44,
      "metadata": {},
      "outputs": [
        {
          "data": {
            "text/plain": [
              "0.6558659217877095"
            ]
          },
          "execution_count": 44,
          "metadata": {},
          "output_type": "execute_result"
        }
      ],
      "source": [
        "X_train, X_test, y_train, y_test = train_test_split(X, y, random_state=42, test_size=0.3)\n",
        "pipe = make_pipeline(StandardScaler(), LogisticRegression(multi_class='multinomial', max_iter=10000))\n",
        "pipe.fit(X_train, y_train)  # apply scaling on training data\n",
        "\n",
        "\n",
        "pipe.score(X_test, y_test)  # apply scaling on testing data, without leaking training data."
      ]
    },
    {
      "cell_type": "code",
      "execution_count": 45,
      "metadata": {},
      "outputs": [],
      "source": [
        "y_pred = pipe.predict(X_test)"
      ]
    },
    {
      "cell_type": "code",
      "execution_count": 46,
      "metadata": {},
      "outputs": [
        {
          "data": {
            "text/plain": [
              "array([[108,  65,   7],\n",
              "       [ 61, 285,  78],\n",
              "       [  8,  89, 194]], dtype=int64)"
            ]
          },
          "execution_count": 46,
          "metadata": {},
          "output_type": "execute_result"
        }
      ],
      "source": [
        "# import the metrics class\n",
        "from sklearn import metrics\n",
        "cnf_matrix = metrics.confusion_matrix(y_test, y_pred)\n",
        "cnf_matrix"
      ]
    },
    {
      "cell_type": "code",
      "execution_count": 47,
      "metadata": {},
      "outputs": [
        {
          "data": {
            "text/plain": [
              "Text(0.5, 257.44, 'Predicted label')"
            ]
          },
          "execution_count": 47,
          "metadata": {},
          "output_type": "execute_result"
        },
        {
          "data": {
            "image/png": "[encoded data removed]",
            "text/plain": [
              "<Figure size 432x288 with 2 Axes>"
            ]
          },
          "metadata": {
            "needs_background": "light"
          },
          "output_type": "display_data"
        }
      ],
      "source": [
        "class_names=[0,1] # name  of classes\n",
        "fig, ax = plt.subplots()\n",
        "tick_marks = np.arange(len(class_names))\n",
        "plt.xticks(tick_marks, class_names)\n",
        "plt.yticks(tick_marks, class_names)\n",
        "# create heatmap\n",
        "sns.heatmap(pd.DataFrame(cnf_matrix), annot=True, cmap=\"YlGnBu\" ,fmt='g')\n",
        "ax.xaxis.set_label_position(\"top\")\n",
        "plt.tight_layout()\n",
        "plt.title('Confusion matrix', y=1.1)\n",
        "plt.ylabel('Actual label')\n",
        "plt.xlabel('Predicted label')"
      ]
    },
    {
      "cell_type": "code",
      "execution_count": 48,
      "metadata": {},
      "outputs": [
        {
          "name": "stdout",
          "output_type": "stream",
          "text": [
            "              precision    recall  f1-score   support\n",
            "\n",
            "           1       0.61      0.60      0.61       180\n",
            "           2       0.65      0.67      0.66       424\n",
            "           3       0.70      0.67      0.68       291\n",
            "\n",
            "    accuracy                           0.66       895\n",
            "   macro avg       0.65      0.65      0.65       895\n",
            "weighted avg       0.66      0.66      0.66       895\n",
            "\n"
          ]
        }
      ],
      "source": [
        "# Membuat classification report\n",
        "from sklearn.metrics import classification_report\n",
        "print(classification_report(y_test, y_pred))"
      ]
    }
  ],
  "metadata": {
    "colab": {
      "collapsed_sections": [],
      "name": "Template Tugas 3 KASDD",
      "provenance": []
    },
    "interpreter": {
      "hash": "f420a5e9dce8be42c49f420b3b777f82628e9e00c12698d0e9ff1948eb9c973d"
    },
    "kernelspec": {
      "display_name": "Python 3.8.8 64-bit ('base': conda)",
      "name": "python3"
    },
    "language_info": {
      "codemirror_mode": {
        "name": "ipython",
        "version": 3
      },
      "file_extension": ".py",
      "mimetype": "text/x-python",
      "name": "python",
      "nbconvert_exporter": "python",
      "pygments_lexer": "ipython3",
      "version": "3.8.8"
    }
  },
  "nbformat": 4,
  "nbformat_minor": 0
}
