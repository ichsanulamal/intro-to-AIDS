{
  "nbformat": 4,
  "nbformat_minor": 0,
  "metadata": {
    "colab": {
      "name": "[Solusi] Lab_3.ipynb",
      "provenance": [],
      "collapsed_sections": []
    },
    "kernelspec": {
      "display_name": "Python 3",
      "language": "python",
      "name": "python3"
    },
    "language_info": {
      "codemirror_mode": {
        "name": "ipython",
        "version": 3
      },
      "file_extension": ".py",
      "mimetype": "text/x-python",
      "name": "python",
      "nbconvert_exporter": "python",
      "pygments_lexer": "ipython3",
      "version": "3.8.1"
    }
  },
  "cells": [
    {
      "cell_type": "markdown",
      "metadata": {
        "id": "TKTOBclz75se"
      },
      "source": [
        "<center>\n",
        "<img src=\"https://drive.google.com/uc?id=1f1gGVI-rxcHjA90WEGNvvtSXF1pAxQwg\" alt=\"Fasilkom UI\" width=\"300\"/>\n",
        "\n",
        "CSGE603130 • Kecerdasan Artifisial dan Sains Data Dasar\n",
        "\n",
        "Semester Ganjil 2021/2022\n",
        "\n",
        "Fakultas Ilmu Komputer, Universitas Indonesia\n",
        "\n",
        "##**Lab 3: *Data Preparation***\n",
        "\n",
        "###**Tenggat Waktu: 25 September 2021, 23.55 WIB**\n",
        "</center>\n",
        "\n",
        "####**Ketentuan:**\n",
        "\n",
        "1. Dokumen template lab dengan format .ipynb dan dataset (jika dibutuhkan) telah disediakan di SCeLe\n",
        "2. Jalankan kode pada dokumen .ipynb dan perhatikan dengan saksama apa yang potongan kode tersebut lakukan beserta dengan keluarannya. Jawablah **pertanyaan yang disisipkan** pada potongan program yang diberikan.\n",
        "3. Dokumen Jupyter Notebook yang telah dilengkapi dengan jawaban dikumpulkan dengan format penamaan **Kelas_Lab3_NPM_Nama.ipynb**. Contoh: F_Lab3_1706979341_Lulu Ilmaknun Qurotaini.ipynb\n",
        "4. Kumpulkan dokumen tersebut pada submisi yang telah disediakan di SCeLe sesuai dengan kelas masing-masing sebelum **25 September 2021, 23.55 WIB**. Keterlambatan pengumpulan akan dikenakan penalti.\n",
        "5. Praktikum ini dirancang sebagai **tugas mandiri**. Plagiarisme tidak diperkenankan dalam bentuk apapun. Adapun kolaborasi berupa diskusi (tanpa menyalin maupun mengambil jawaban orang lain) dan literasi masih diperbolehkan dengan mencantumkan kolaborator dan sumber.\n"
      ]
    },
    {
      "cell_type": "markdown",
      "metadata": {
        "id": "HloCaoZB8Hdr"
      },
      "source": [
        "## **Pernyataan Integritas**\n",
        "\n",
        "Wajib diisi. Tanpa pernyataan integritas submisi akan dikenakan pinalti."
      ]
    },
    {
      "cell_type": "code",
      "metadata": {
        "id": "hFvDp8qSz-RU"
      },
      "source": [
        "# Isi dengan data diri Anda\n",
        "NAMA = \"\"\n",
        "KELAS = \"\"\n",
        "NPM = \"\"\n",
        "\n",
        "# Isi dengan NPM teman yang berdiskusi dengan Anda\n",
        "KOLABORATOR = []\n",
        "\n",
        "# Isi dengan sumber referensi yang Anda gunakan dalam mengerjakan\n",
        "REFERENSI = []"
      ],
      "execution_count": null,
      "outputs": []
    },
    {
      "cell_type": "code",
      "metadata": {
        "colab": {
          "base_uri": "https://localhost:8080/"
        },
        "id": "y-k0CCamOkcZ",
        "outputId": "23066697-59ed-4231-9cbb-e700c51b7a98"
      },
      "source": [
        "PERNYATAAN_INTEGRITAS = \"Saya, %s dari kelas %s dengan NPM %s, menyatakan bahwa seluruh jawaban pada pekerjaan ini murni saya kerjakan sendiri.\\n\\\n",
        "Saya tidak mencontek jawaban, memberikan jawaban, maupun menyalin dari sumber manapun.\\n \\\n",
        "\\n\\\n",
        "Jika saya melanggar pernyataan tersebut, saya siap menerima konsekuensi apapun yang diberikan.\\n   \\\n",
        "(%s)\" % (NAMA, KELAS, NPM, NAMA)\n",
        "\n",
        "print(PERNYATAAN_INTEGRITAS)"
      ],
      "execution_count": null,
      "outputs": [
        {
          "output_type": "stream",
          "name": "stdout",
          "text": [
            "Saya,  dari kelas  dengan NPM , menyatakan bahwa seluruh jawaban pada pekerjaan ini murni saya kerjakan sendiri.\n",
            "Saya tidak mencontek jawaban, memberikan jawaban, maupun menyalin dari sumber manapun.\n",
            " \n",
            "Jika saya melanggar pernyataan tersebut, saya siap menerima konsekuensi apapun yang diberikan.\n",
            "   ()\n"
          ]
        }
      ]
    },
    {
      "cell_type": "markdown",
      "metadata": {
        "id": "b-rPY0F5Vevh"
      },
      "source": [
        "## **Preprocessing pada Titanic Dataset**\n",
        "\n",
        "Sumber: ToT Microcredential AI-Data Science Dirjen Dikti, dengan beberapa perubahan\n"
      ]
    },
    {
      "cell_type": "markdown",
      "metadata": {
        "id": "ThEcWldxOVFe"
      },
      "source": [
        "### Import Library dan Data"
      ]
    },
    {
      "cell_type": "code",
      "metadata": {
        "id": "o0LtLOPfOVFl"
      },
      "source": [
        "import pandas as pd\n",
        "import numpy as np\n",
        "\n",
        "import matplotlib.pyplot as plt\n",
        "import seaborn as sns\n",
        "import scipy.stats as scp\n",
        "\n",
        "from sklearn.preprocessing import LabelEncoder, Normalizer, StandardScaler"
      ],
      "execution_count": null,
      "outputs": []
    },
    {
      "cell_type": "code",
      "metadata": {
        "id": "jJsIcJGWOVFo"
      },
      "source": [
        "titanic1 = pd.read_csv('data_titanic1.csv')"
      ],
      "execution_count": null,
      "outputs": []
    },
    {
      "cell_type": "code",
      "metadata": {
        "colab": {
          "base_uri": "https://localhost:8080/"
        },
        "id": "fHeTQl_1OVFp",
        "outputId": "3c01e9e9-4540-47fc-8fd1-2ec3efe87b40"
      },
      "source": [
        "# Mencetak dimensi data\n",
        "print(\"data: \", titanic1.shape)"
      ],
      "execution_count": null,
      "outputs": [
        {
          "output_type": "stream",
          "name": "stdout",
          "text": [
            "data:  (900, 14)\n"
          ]
        }
      ]
    },
    {
      "cell_type": "code",
      "metadata": {
        "colab": {
          "base_uri": "https://localhost:8080/"
        },
        "id": "TLc6noNLOVFr",
        "outputId": "b4dcb9ab-c7f9-46bf-8dc8-7b1d6a980b3f"
      },
      "source": [
        "# Membaca kolom-kolom pada DataFrame\n",
        "titanic1.info()"
      ],
      "execution_count": null,
      "outputs": [
        {
          "output_type": "stream",
          "name": "stdout",
          "text": [
            "<class 'pandas.core.frame.DataFrame'>\n",
            "RangeIndex: 900 entries, 0 to 899\n",
            "Data columns (total 14 columns):\n",
            " #   Column     Non-Null Count  Dtype  \n",
            "---  ------     --------------  -----  \n",
            " 0   pclass     900 non-null    int64  \n",
            " 1   survived   900 non-null    int64  \n",
            " 2   name       900 non-null    object \n",
            " 3   sex        900 non-null    object \n",
            " 4   age        804 non-null    float64\n",
            " 5   sibsp      900 non-null    int64  \n",
            " 6   parch      900 non-null    int64  \n",
            " 7   ticket     900 non-null    object \n",
            " 8   fare       900 non-null    float64\n",
            " 9   cabin      281 non-null    object \n",
            " 10  embarked   898 non-null    object \n",
            " 11  boat       389 non-null    object \n",
            " 12  body       90 non-null     float64\n",
            " 13  home.dest  742 non-null    object \n",
            "dtypes: float64(3), int64(4), object(7)\n",
            "memory usage: 98.6+ KB\n"
          ]
        }
      ]
    },
    {
      "cell_type": "markdown",
      "metadata": {
        "id": "j9pb-VsmOVFs"
      },
      "source": [
        "### **Variable Descriptions:**\n",
        "\n",
        "`pclass`:          Passenger Class\n",
        "                (1 = 1st; 2 = 2nd; 3 = 3rd)\n",
        "\n",
        "`survival`:        Survival\n",
        "                (0 = No; 1 = Yes)\n",
        "\n",
        "`name`:           Name\n",
        "\n",
        "`sex`:             Sex\n",
        "\n",
        "`age`:             Age\n",
        "\n",
        "`sibsp`:           Number of Siblings/Spouses Aboard\n",
        "\n",
        "`parch`:           Number of Parents/Children Aboard\n",
        "\n",
        "`ticket`:          Ticket Number\n",
        "\n",
        "`fare`:            Passenger Fare\n",
        "\n",
        "`cabin`:           Cabin\n",
        "\n",
        "`embarked`:        Port of Embarkation\n",
        "                (C = Cherbourg; Q = Queenstown; S = Southampton)\n",
        "\n",
        "`boat`:            Lifeboat\n",
        "\n",
        "`body`:            Body Identification Number\n",
        "\n",
        "`home.dest`:       Home/Destination\n",
        "\n",
        "**SPECIAL NOTES:**\n",
        "\n",
        "`pclass` is a proxy for socio-economic status (SES)\n",
        " \n",
        " 1st ~ Upper; 2nd ~ Middle; 3rd ~ Lower\n",
        "\n",
        "`pclass` mengacu pada kelas penumpang (1, 2, 3) dan merepresentasikan kelas sosial ekonomi. "
      ]
    },
    {
      "cell_type": "code",
      "metadata": {
        "colab": {
          "base_uri": "https://localhost:8080/",
          "height": 191
        },
        "id": "nJaxL3fNOVFu",
        "outputId": "9fbd235e-c7a9-40a5-fc85-ffc7dda728e4"
      },
      "source": [
        "titanic1.head()"
      ],
      "execution_count": null,
      "outputs": [
        {
          "output_type": "execute_result",
          "data": {
            "text/html": [
              "<div>\n",
              "<style scoped>\n",
              "    .dataframe tbody tr th:only-of-type {\n",
              "        vertical-align: middle;\n",
              "    }\n",
              "\n",
              "    .dataframe tbody tr th {\n",
              "        vertical-align: top;\n",
              "    }\n",
              "\n",
              "    .dataframe thead th {\n",
              "        text-align: right;\n",
              "    }\n",
              "</style>\n",
              "<table border=\"1\" class=\"dataframe\">\n",
              "  <thead>\n",
              "    <tr style=\"text-align: right;\">\n",
              "      <th></th>\n",
              "      <th>pclass</th>\n",
              "      <th>survived</th>\n",
              "      <th>name</th>\n",
              "      <th>sex</th>\n",
              "      <th>age</th>\n",
              "      <th>sibsp</th>\n",
              "      <th>parch</th>\n",
              "      <th>ticket</th>\n",
              "      <th>fare</th>\n",
              "      <th>cabin</th>\n",
              "      <th>embarked</th>\n",
              "      <th>boat</th>\n",
              "      <th>body</th>\n",
              "      <th>home.dest</th>\n",
              "    </tr>\n",
              "  </thead>\n",
              "  <tbody>\n",
              "    <tr>\n",
              "      <th>0</th>\n",
              "      <td>1</td>\n",
              "      <td>1</td>\n",
              "      <td>Allen, Miss. Elisabeth Walton</td>\n",
              "      <td>female</td>\n",
              "      <td>29.00</td>\n",
              "      <td>0</td>\n",
              "      <td>0</td>\n",
              "      <td>24160</td>\n",
              "      <td>211.3375</td>\n",
              "      <td>B5</td>\n",
              "      <td>S</td>\n",
              "      <td>2</td>\n",
              "      <td>NaN</td>\n",
              "      <td>St Louis, MO</td>\n",
              "    </tr>\n",
              "    <tr>\n",
              "      <th>1</th>\n",
              "      <td>1</td>\n",
              "      <td>1</td>\n",
              "      <td>Allison, Master. Hudson Trevor</td>\n",
              "      <td>male</td>\n",
              "      <td>0.92</td>\n",
              "      <td>1</td>\n",
              "      <td>2</td>\n",
              "      <td>113781</td>\n",
              "      <td>151.5500</td>\n",
              "      <td>C22 C26</td>\n",
              "      <td>S</td>\n",
              "      <td>11</td>\n",
              "      <td>NaN</td>\n",
              "      <td>Montreal, PQ / Chesterville, ON</td>\n",
              "    </tr>\n",
              "    <tr>\n",
              "      <th>2</th>\n",
              "      <td>1</td>\n",
              "      <td>0</td>\n",
              "      <td>Allison, Miss. Helen Loraine</td>\n",
              "      <td>female</td>\n",
              "      <td>2.00</td>\n",
              "      <td>1</td>\n",
              "      <td>2</td>\n",
              "      <td>113781</td>\n",
              "      <td>151.5500</td>\n",
              "      <td>C22 C26</td>\n",
              "      <td>S</td>\n",
              "      <td>NaN</td>\n",
              "      <td>NaN</td>\n",
              "      <td>Montreal, PQ / Chesterville, ON</td>\n",
              "    </tr>\n",
              "    <tr>\n",
              "      <th>3</th>\n",
              "      <td>1</td>\n",
              "      <td>0</td>\n",
              "      <td>Allison, Mr. Hudson Joshua Creighton</td>\n",
              "      <td>male</td>\n",
              "      <td>30.00</td>\n",
              "      <td>1</td>\n",
              "      <td>2</td>\n",
              "      <td>113781</td>\n",
              "      <td>151.5500</td>\n",
              "      <td>C22 C26</td>\n",
              "      <td>S</td>\n",
              "      <td>NaN</td>\n",
              "      <td>135.0</td>\n",
              "      <td>Montreal, PQ / Chesterville, ON</td>\n",
              "    </tr>\n",
              "    <tr>\n",
              "      <th>4</th>\n",
              "      <td>1</td>\n",
              "      <td>0</td>\n",
              "      <td>Allison, Mrs. Hudson J C (Bessie Waldo Daniels)</td>\n",
              "      <td>female</td>\n",
              "      <td>25.00</td>\n",
              "      <td>1</td>\n",
              "      <td>2</td>\n",
              "      <td>113781</td>\n",
              "      <td>151.5500</td>\n",
              "      <td>C22 C26</td>\n",
              "      <td>S</td>\n",
              "      <td>NaN</td>\n",
              "      <td>NaN</td>\n",
              "      <td>Montreal, PQ / Chesterville, ON</td>\n",
              "    </tr>\n",
              "  </tbody>\n",
              "</table>\n",
              "</div>"
            ],
            "text/plain": [
              "   pclass  survived  ...   body                        home.dest\n",
              "0       1         1  ...    NaN                     St Louis, MO\n",
              "1       1         1  ...    NaN  Montreal, PQ / Chesterville, ON\n",
              "2       1         0  ...    NaN  Montreal, PQ / Chesterville, ON\n",
              "3       1         0  ...  135.0  Montreal, PQ / Chesterville, ON\n",
              "4       1         0  ...    NaN  Montreal, PQ / Chesterville, ON\n",
              "\n",
              "[5 rows x 14 columns]"
            ]
          },
          "metadata": {},
          "execution_count": 11
        }
      ]
    },
    {
      "cell_type": "markdown",
      "metadata": {
        "id": "svLumBnvOVFv"
      },
      "source": [
        "### Basic Summary Statistic"
      ]
    },
    {
      "cell_type": "code",
      "metadata": {
        "colab": {
          "base_uri": "https://localhost:8080/",
          "height": 277
        },
        "id": "RdUnkeRvOVFv",
        "outputId": "17e48fb5-670c-4b8f-9a14-cad6c779295b"
      },
      "source": [
        "titanic1.describe()"
      ],
      "execution_count": null,
      "outputs": [
        {
          "output_type": "execute_result",
          "data": {
            "text/html": [
              "<div>\n",
              "<style scoped>\n",
              "    .dataframe tbody tr th:only-of-type {\n",
              "        vertical-align: middle;\n",
              "    }\n",
              "\n",
              "    .dataframe tbody tr th {\n",
              "        vertical-align: top;\n",
              "    }\n",
              "\n",
              "    .dataframe thead th {\n",
              "        text-align: right;\n",
              "    }\n",
              "</style>\n",
              "<table border=\"1\" class=\"dataframe\">\n",
              "  <thead>\n",
              "    <tr style=\"text-align: right;\">\n",
              "      <th></th>\n",
              "      <th>pclass</th>\n",
              "      <th>survived</th>\n",
              "      <th>age</th>\n",
              "      <th>sibsp</th>\n",
              "      <th>parch</th>\n",
              "      <th>fare</th>\n",
              "      <th>body</th>\n",
              "    </tr>\n",
              "  </thead>\n",
              "  <tbody>\n",
              "    <tr>\n",
              "      <th>count</th>\n",
              "      <td>900.000000</td>\n",
              "      <td>900.000000</td>\n",
              "      <td>804.000000</td>\n",
              "      <td>900.000000</td>\n",
              "      <td>900.000000</td>\n",
              "      <td>900.000000</td>\n",
              "      <td>90.000000</td>\n",
              "    </tr>\n",
              "    <tr>\n",
              "      <th>mean</th>\n",
              "      <td>1.974444</td>\n",
              "      <td>0.441111</td>\n",
              "      <td>31.365672</td>\n",
              "      <td>0.455556</td>\n",
              "      <td>0.393333</td>\n",
              "      <td>42.238407</td>\n",
              "      <td>160.266667</td>\n",
              "    </tr>\n",
              "    <tr>\n",
              "      <th>std</th>\n",
              "      <td>0.832069</td>\n",
              "      <td>0.496796</td>\n",
              "      <td>14.663238</td>\n",
              "      <td>0.808205</td>\n",
              "      <td>0.814742</td>\n",
              "      <td>59.740782</td>\n",
              "      <td>92.476514</td>\n",
              "    </tr>\n",
              "    <tr>\n",
              "      <th>min</th>\n",
              "      <td>1.000000</td>\n",
              "      <td>0.000000</td>\n",
              "      <td>0.170000</td>\n",
              "      <td>0.000000</td>\n",
              "      <td>0.000000</td>\n",
              "      <td>0.000000</td>\n",
              "      <td>9.000000</td>\n",
              "    </tr>\n",
              "    <tr>\n",
              "      <th>25%</th>\n",
              "      <td>1.000000</td>\n",
              "      <td>0.000000</td>\n",
              "      <td>22.000000</td>\n",
              "      <td>0.000000</td>\n",
              "      <td>0.000000</td>\n",
              "      <td>10.500000</td>\n",
              "      <td>80.250000</td>\n",
              "    </tr>\n",
              "    <tr>\n",
              "      <th>50%</th>\n",
              "      <td>2.000000</td>\n",
              "      <td>0.000000</td>\n",
              "      <td>30.000000</td>\n",
              "      <td>0.000000</td>\n",
              "      <td>0.000000</td>\n",
              "      <td>24.075000</td>\n",
              "      <td>152.000000</td>\n",
              "    </tr>\n",
              "    <tr>\n",
              "      <th>75%</th>\n",
              "      <td>3.000000</td>\n",
              "      <td>1.000000</td>\n",
              "      <td>41.000000</td>\n",
              "      <td>1.000000</td>\n",
              "      <td>0.000000</td>\n",
              "      <td>50.123950</td>\n",
              "      <td>248.000000</td>\n",
              "    </tr>\n",
              "    <tr>\n",
              "      <th>max</th>\n",
              "      <td>3.000000</td>\n",
              "      <td>1.000000</td>\n",
              "      <td>80.000000</td>\n",
              "      <td>5.000000</td>\n",
              "      <td>6.000000</td>\n",
              "      <td>512.329200</td>\n",
              "      <td>322.000000</td>\n",
              "    </tr>\n",
              "  </tbody>\n",
              "</table>\n",
              "</div>"
            ],
            "text/plain": [
              "           pclass    survived         age  ...       parch        fare        body\n",
              "count  900.000000  900.000000  804.000000  ...  900.000000  900.000000   90.000000\n",
              "mean     1.974444    0.441111   31.365672  ...    0.393333   42.238407  160.266667\n",
              "std      0.832069    0.496796   14.663238  ...    0.814742   59.740782   92.476514\n",
              "min      1.000000    0.000000    0.170000  ...    0.000000    0.000000    9.000000\n",
              "25%      1.000000    0.000000   22.000000  ...    0.000000   10.500000   80.250000\n",
              "50%      2.000000    0.000000   30.000000  ...    0.000000   24.075000  152.000000\n",
              "75%      3.000000    1.000000   41.000000  ...    0.000000   50.123950  248.000000\n",
              "max      3.000000    1.000000   80.000000  ...    6.000000  512.329200  322.000000\n",
              "\n",
              "[8 rows x 7 columns]"
            ]
          },
          "metadata": {},
          "execution_count": 12
        }
      ]
    },
    {
      "cell_type": "markdown",
      "metadata": {
        "id": "zOVsKq4-XXR2"
      },
      "source": [
        "Dengan method \"describe\" kita mendapatkan basic statistics untuk atribut numerik. \n",
        "\n",
        "Apa yang bisa diamati?\n",
        "Pada atribut \"fare\", standard deviasi tampak tinggi, jauh di atas mean, perlu dilihat lebih jauh distribusi datanya."
      ]
    },
    {
      "cell_type": "code",
      "metadata": {
        "colab": {
          "base_uri": "https://localhost:8080/",
          "height": 162
        },
        "id": "rn2CQNiqgK4A",
        "outputId": "e26d30f9-aca0-4f36-95be-6ac25202fe88"
      },
      "source": [
        "# Menampilkan summary dari nonnumeric atribute\n",
        "display(titanic1.describe(include=np.object))"
      ],
      "execution_count": null,
      "outputs": [
        {
          "output_type": "display_data",
          "data": {
            "text/html": [
              "<div>\n",
              "<style scoped>\n",
              "    .dataframe tbody tr th:only-of-type {\n",
              "        vertical-align: middle;\n",
              "    }\n",
              "\n",
              "    .dataframe tbody tr th {\n",
              "        vertical-align: top;\n",
              "    }\n",
              "\n",
              "    .dataframe thead th {\n",
              "        text-align: right;\n",
              "    }\n",
              "</style>\n",
              "<table border=\"1\" class=\"dataframe\">\n",
              "  <thead>\n",
              "    <tr style=\"text-align: right;\">\n",
              "      <th></th>\n",
              "      <th>name</th>\n",
              "      <th>sex</th>\n",
              "      <th>ticket</th>\n",
              "      <th>cabin</th>\n",
              "      <th>embarked</th>\n",
              "      <th>boat</th>\n",
              "      <th>home.dest</th>\n",
              "    </tr>\n",
              "  </thead>\n",
              "  <tbody>\n",
              "    <tr>\n",
              "      <th>count</th>\n",
              "      <td>900</td>\n",
              "      <td>900</td>\n",
              "      <td>900</td>\n",
              "      <td>281</td>\n",
              "      <td>898</td>\n",
              "      <td>389</td>\n",
              "      <td>742</td>\n",
              "    </tr>\n",
              "    <tr>\n",
              "      <th>unique</th>\n",
              "      <td>899</td>\n",
              "      <td>2</td>\n",
              "      <td>617</td>\n",
              "      <td>178</td>\n",
              "      <td>3</td>\n",
              "      <td>25</td>\n",
              "      <td>366</td>\n",
              "    </tr>\n",
              "    <tr>\n",
              "      <th>top</th>\n",
              "      <td>Connolly, Miss. Kate</td>\n",
              "      <td>male</td>\n",
              "      <td>CA 2144</td>\n",
              "      <td>C23 C25 C27</td>\n",
              "      <td>S</td>\n",
              "      <td>4</td>\n",
              "      <td>New York, NY</td>\n",
              "    </tr>\n",
              "    <tr>\n",
              "      <th>freq</th>\n",
              "      <td>2</td>\n",
              "      <td>560</td>\n",
              "      <td>8</td>\n",
              "      <td>6</td>\n",
              "      <td>637</td>\n",
              "      <td>31</td>\n",
              "      <td>64</td>\n",
              "    </tr>\n",
              "  </tbody>\n",
              "</table>\n",
              "</div>"
            ],
            "text/plain": [
              "                        name   sex   ticket  ... embarked boat     home.dest\n",
              "count                    900   900      900  ...      898  389           742\n",
              "unique                   899     2      617  ...        3   25           366\n",
              "top     Connolly, Miss. Kate  male  CA 2144  ...        S    4  New York, NY\n",
              "freq                       2   560        8  ...      637   31            64\n",
              "\n",
              "[4 rows x 7 columns]"
            ]
          },
          "metadata": {}
        }
      ]
    },
    {
      "cell_type": "markdown",
      "metadata": {
        "id": "M0qUBTe_z-Rd"
      },
      "source": [
        "Pada tabel di atas, \"unique\" menunjukkan ada berapa variasi nilai dalam suatu atribut. \n",
        "Jika \"unique\" bernilai 1, atribut tersebut dapat dihapus, karena nilainya sama untuk semua baris."
      ]
    },
    {
      "cell_type": "code",
      "metadata": {
        "id": "kKVHi9L-OVFw"
      },
      "source": [
        "# Plot beberapa kolom untuk melihat distribusi frekuensinya\n",
        "def countplot(column):\n",
        "    return sns.countplot(x= column, data= titanic1)"
      ],
      "execution_count": null,
      "outputs": []
    },
    {
      "cell_type": "code",
      "metadata": {
        "colab": {
          "base_uri": "https://localhost:8080/",
          "height": 295
        },
        "id": "FgsVsOaOOVFx",
        "outputId": "afb2441b-78ed-45b5-f8e0-0519f7372d11"
      },
      "source": [
        "countplot('pclass')"
      ],
      "execution_count": null,
      "outputs": [
        {
          "output_type": "execute_result",
          "data": {
            "text/plain": [
              "<matplotlib.axes._subplots.AxesSubplot at 0x7f70526ee3d0>"
            ]
          },
          "metadata": {},
          "execution_count": 15
        },
        {
          "output_type": "display_data",
          "data": {
            "image/png": "[encoded data removed]",
            "text/plain": [
              "<Figure size 432x288 with 1 Axes>"
            ]
          },
          "metadata": {
            "needs_background": "light"
          }
        }
      ]
    },
    {
      "cell_type": "markdown",
      "metadata": {
        "id": "MkhbKU6-z-Re"
      },
      "source": [
        "Berdasarkan plot di atas, terlihat bahwa yang tinggi frekuensinya adalah kelas 1 (upper social economic status."
      ]
    },
    {
      "cell_type": "code",
      "metadata": {
        "colab": {
          "base_uri": "https://localhost:8080/",
          "height": 295
        },
        "id": "eSx2cSccOVFy",
        "outputId": "a86f2d37-1ab1-4e3f-a5fa-878d98ce5ad9"
      },
      "source": [
        "countplot('survived')"
      ],
      "execution_count": null,
      "outputs": [
        {
          "output_type": "execute_result",
          "data": {
            "text/plain": [
              "<matplotlib.axes._subplots.AxesSubplot at 0x7f704ff6e2d0>"
            ]
          },
          "metadata": {},
          "execution_count": 16
        },
        {
          "output_type": "display_data",
          "data": {
            "image/png": "[encoded data removed]",
            "text/plain": [
              "<Figure size 432x288 with 1 Axes>"
            ]
          },
          "metadata": {
            "needs_background": "light"
          }
        }
      ]
    },
    {
      "cell_type": "markdown",
      "metadata": {
        "id": "J2oE58L9z-Rf"
      },
      "source": [
        "Berdasarkan plot di atas, terlihat bahwa penumpang yang survived lebih sedikit."
      ]
    },
    {
      "cell_type": "code",
      "metadata": {
        "colab": {
          "base_uri": "https://localhost:8080/",
          "height": 295
        },
        "id": "W4f-aGxWOVFy",
        "outputId": "9fd2e2e3-6168-4e31-a56d-e545ea0d8835"
      },
      "source": [
        "countplot('embarked')"
      ],
      "execution_count": null,
      "outputs": [
        {
          "output_type": "execute_result",
          "data": {
            "text/plain": [
              "<matplotlib.axes._subplots.AxesSubplot at 0x7f704fa8c310>"
            ]
          },
          "metadata": {},
          "execution_count": 17
        },
        {
          "output_type": "display_data",
          "data": {
            "image/png": "[encoded data removed]",
            "text/plain": [
              "<Figure size 432x288 with 1 Axes>"
            ]
          },
          "metadata": {
            "needs_background": "light"
          }
        }
      ]
    },
    {
      "cell_type": "markdown",
      "metadata": {
        "id": "NxdAv3jHz-Rg"
      },
      "source": [
        "Berdasarkan plot di atas, terlihat bahwa Southampton merupakan embarkasi terbanyak."
      ]
    },
    {
      "cell_type": "code",
      "metadata": {
        "colab": {
          "base_uri": "https://localhost:8080/",
          "height": 295
        },
        "id": "55Gf3Nl7OVFz",
        "outputId": "b53c6052-888c-4f86-ad19-4d85f0392380"
      },
      "source": [
        "countplot('sex')"
      ],
      "execution_count": null,
      "outputs": [
        {
          "output_type": "execute_result",
          "data": {
            "text/plain": [
              "<matplotlib.axes._subplots.AxesSubplot at 0x7f704fa00ed0>"
            ]
          },
          "metadata": {},
          "execution_count": 18
        },
        {
          "output_type": "display_data",
          "data": {
            "image/png": "[encoded data removed]",
            "text/plain": [
              "<Figure size 432x288 with 1 Axes>"
            ]
          },
          "metadata": {
            "needs_background": "light"
          }
        }
      ]
    },
    {
      "cell_type": "markdown",
      "metadata": {
        "id": "8HkabFIhz-Rg"
      },
      "source": [
        "Berdasarkan plot di atas, terlihat bahwa penumpang perempuan lebih sedikit dibanding laki-laki."
      ]
    },
    {
      "cell_type": "code",
      "metadata": {
        "id": "-kkujCiWl4Aq",
        "colab": {
          "base_uri": "https://localhost:8080/",
          "height": 248
        },
        "outputId": "e3abbba0-299a-424a-938b-72bfbb1e83ab"
      },
      "source": [
        "# Mendapatkan nilai korelasi (koefisien Person) atribut numerik, dengan method \"corr\"\n",
        "titanic1.corr(method='pearson')"
      ],
      "execution_count": null,
      "outputs": [
        {
          "output_type": "execute_result",
          "data": {
            "text/html": [
              "<div>\n",
              "<style scoped>\n",
              "    .dataframe tbody tr th:only-of-type {\n",
              "        vertical-align: middle;\n",
              "    }\n",
              "\n",
              "    .dataframe tbody tr th {\n",
              "        vertical-align: top;\n",
              "    }\n",
              "\n",
              "    .dataframe thead th {\n",
              "        text-align: right;\n",
              "    }\n",
              "</style>\n",
              "<table border=\"1\" class=\"dataframe\">\n",
              "  <thead>\n",
              "    <tr style=\"text-align: right;\">\n",
              "      <th></th>\n",
              "      <th>pclass</th>\n",
              "      <th>survived</th>\n",
              "      <th>age</th>\n",
              "      <th>sibsp</th>\n",
              "      <th>parch</th>\n",
              "      <th>fare</th>\n",
              "      <th>body</th>\n",
              "    </tr>\n",
              "  </thead>\n",
              "  <tbody>\n",
              "    <tr>\n",
              "      <th>pclass</th>\n",
              "      <td>1.000000</td>\n",
              "      <td>-0.300993</td>\n",
              "      <td>-0.407413</td>\n",
              "      <td>0.048759</td>\n",
              "      <td>0.041097</td>\n",
              "      <td>-0.523887</td>\n",
              "      <td>-0.060393</td>\n",
              "    </tr>\n",
              "    <tr>\n",
              "      <th>survived</th>\n",
              "      <td>-0.300993</td>\n",
              "      <td>1.000000</td>\n",
              "      <td>-0.080387</td>\n",
              "      <td>0.050267</td>\n",
              "      <td>0.139735</td>\n",
              "      <td>0.251140</td>\n",
              "      <td>NaN</td>\n",
              "    </tr>\n",
              "    <tr>\n",
              "      <th>age</th>\n",
              "      <td>-0.407413</td>\n",
              "      <td>-0.080387</td>\n",
              "      <td>1.000000</td>\n",
              "      <td>-0.192277</td>\n",
              "      <td>-0.157046</td>\n",
              "      <td>0.164158</td>\n",
              "      <td>0.000347</td>\n",
              "    </tr>\n",
              "    <tr>\n",
              "      <th>sibsp</th>\n",
              "      <td>0.048759</td>\n",
              "      <td>0.050267</td>\n",
              "      <td>-0.192277</td>\n",
              "      <td>1.000000</td>\n",
              "      <td>0.403285</td>\n",
              "      <td>0.155961</td>\n",
              "      <td>0.077668</td>\n",
              "    </tr>\n",
              "    <tr>\n",
              "      <th>parch</th>\n",
              "      <td>0.041097</td>\n",
              "      <td>0.139735</td>\n",
              "      <td>-0.157046</td>\n",
              "      <td>0.403285</td>\n",
              "      <td>1.000000</td>\n",
              "      <td>0.222607</td>\n",
              "      <td>-0.031701</td>\n",
              "    </tr>\n",
              "    <tr>\n",
              "      <th>fare</th>\n",
              "      <td>-0.523887</td>\n",
              "      <td>0.251140</td>\n",
              "      <td>0.164158</td>\n",
              "      <td>0.155961</td>\n",
              "      <td>0.222607</td>\n",
              "      <td>1.000000</td>\n",
              "      <td>-0.040643</td>\n",
              "    </tr>\n",
              "    <tr>\n",
              "      <th>body</th>\n",
              "      <td>-0.060393</td>\n",
              "      <td>NaN</td>\n",
              "      <td>0.000347</td>\n",
              "      <td>0.077668</td>\n",
              "      <td>-0.031701</td>\n",
              "      <td>-0.040643</td>\n",
              "      <td>1.000000</td>\n",
              "    </tr>\n",
              "  </tbody>\n",
              "</table>\n",
              "</div>"
            ],
            "text/plain": [
              "            pclass  survived       age     sibsp     parch      fare      body\n",
              "pclass    1.000000 -0.300993 -0.407413  0.048759  0.041097 -0.523887 -0.060393\n",
              "survived -0.300993  1.000000 -0.080387  0.050267  0.139735  0.251140       NaN\n",
              "age      -0.407413 -0.080387  1.000000 -0.192277 -0.157046  0.164158  0.000347\n",
              "sibsp     0.048759  0.050267 -0.192277  1.000000  0.403285  0.155961  0.077668\n",
              "parch     0.041097  0.139735 -0.157046  0.403285  1.000000  0.222607 -0.031701\n",
              "fare     -0.523887  0.251140  0.164158  0.155961  0.222607  1.000000 -0.040643\n",
              "body     -0.060393       NaN  0.000347  0.077668 -0.031701 -0.040643  1.000000"
            ]
          },
          "metadata": {},
          "execution_count": 19
        }
      ]
    },
    {
      "cell_type": "code",
      "metadata": {
        "id": "5aIBcqMYl4Aq"
      },
      "source": [
        "# Mendapatkan nilai korelasi dari atribut nonnumerik, dengan method \"chi2\"\n",
        "def compute_freq_chi2(x,y):\n",
        "    freqtab = pd.crosstab(x,y)\n",
        "    print(\"Frequency table\")\n",
        "    print(\"============================\")\n",
        "    print(freqtab)\n",
        "    print(\"============================\")\n",
        "    chi2,pval,dof,expected = scp.chi2_contingency(freqtab)\n",
        "    print(\"ChiSquare test statistic: \",chi2)\n",
        "    print(\"p-value: \",pval)\n",
        "    return"
      ],
      "execution_count": null,
      "outputs": []
    },
    {
      "cell_type": "markdown",
      "metadata": {
        "id": "Aagq_rTll4Aq"
      },
      "source": [
        "Chi-square dapat digunakan untuk melihat pengaruh atau korelasi dua buah variabel kategorikal dan mengukur\n",
        "kuatnya hubungan antara variabel yang satu dengan\n",
        "variabel kategorikal lainnya. Dalam pengertian yang lebih umum, chi-square berguna untuk melihat apakah distribusi variabel kategori berbeda satu sama lain."
      ]
    },
    {
      "cell_type": "code",
      "metadata": {
        "id": "BxA7pNJPl4Ar",
        "colab": {
          "base_uri": "https://localhost:8080/"
        },
        "outputId": "4c5b01de-e4e5-41c7-ec0f-5bb1f1334cf7"
      },
      "source": [
        "# Korelasi antara survived dengan pclass\n",
        "compute_freq_chi2(titanic1.survived,titanic1.pclass)"
      ],
      "execution_count": null,
      "outputs": [
        {
          "output_type": "stream",
          "name": "stdout",
          "text": [
            "Frequency table\n",
            "============================\n",
            "pclass      1    2    3\n",
            "survived               \n",
            "0         123  158  222\n",
            "1         200  119   78\n",
            "============================\n",
            "ChiSquare test statistic:  81.61469423204498\n",
            "p-value:  1.894935039255057e-18\n"
          ]
        }
      ]
    },
    {
      "cell_type": "markdown",
      "metadata": {
        "id": "KF0FAJ2ql4Ar"
      },
      "source": [
        "Penumpang kelas 3 yang tidak survive mencapai 500 orang lebih."
      ]
    },
    {
      "cell_type": "code",
      "metadata": {
        "id": "j5Lu1r57l4Ar",
        "colab": {
          "base_uri": "https://localhost:8080/"
        },
        "outputId": "49344593-2423-4354-f1a2-15ac00bc3b9d"
      },
      "source": [
        "# Korelasi antara survived dengan embarked\n",
        "compute_freq_chi2(titanic1.survived,titanic1.embarked)"
      ],
      "execution_count": null,
      "outputs": [
        {
          "output_type": "stream",
          "name": "stdout",
          "text": [
            "Frequency table\n",
            "============================\n",
            "embarked    C   Q    S\n",
            "survived              \n",
            "0          85  38  380\n",
            "1         123  15  257\n",
            "============================\n",
            "ChiSquare test statistic:  28.09128646800554\n",
            "p-value:  7.944281939252533e-07\n"
          ]
        }
      ]
    },
    {
      "cell_type": "markdown",
      "metadata": {
        "id": "7ggceYpel4Ar"
      },
      "source": [
        "Embarkasi S paling banyak yang tidak survived"
      ]
    },
    {
      "cell_type": "markdown",
      "metadata": {
        "id": "EiPrpogLl4Ar"
      },
      "source": [
        "## Data Preprocessing\n",
        "\n",
        "Data Preparation atau data preprocessing adalah suatu proses pembersihan dan transformasi pada raw data sebelum diproses dan dianalisis. Pada beberapa algoritma klasifikasi, dibutuhkan preprocessing khusus agar algoritma dapat berjalan dengan baik.\n",
        "\n",
        "**DISCLAIMER!**  Pada contoh ini, preprocessing yang \n",
        "dilakukan dimaksudkan untuk algoritma yang memmiliki karakteristik:\n",
        "* sensitif terhadap outlier\n",
        "* fitur-fiturnya perlu memiliki range yang setara"
      ]
    },
    {
      "cell_type": "markdown",
      "metadata": {
        "id": "6b1LvH0Sl4Ar"
      },
      "source": [
        "## **SOAL 1**"
      ]
    },
    {
      "cell_type": "code",
      "metadata": {
        "id": "73w-dStgl4As"
      },
      "source": [
        "# Import data_titanic2\n",
        "titanic2 = pd.read_csv('data_titanic2.csv')"
      ],
      "execution_count": null,
      "outputs": []
    },
    {
      "cell_type": "code",
      "metadata": {
        "id": "wvSAHzQxl4As"
      },
      "source": [
        "# Menggabungkan dua data frame\n",
        "frames = [titanic1, titanic2] \n",
        "merged_titanic = pd.concat(frames).reset_index(drop=True)"
      ],
      "execution_count": null,
      "outputs": []
    },
    {
      "cell_type": "markdown",
      "metadata": {
        "id": "dyVuQmXBl4As"
      },
      "source": [
        "(a) Dari data merged_titanic di atas, apakah terdapat redudansi data? Implementasikan dengan code!"
      ]
    },
    {
      "cell_type": "markdown",
      "metadata": {
        "id": "rkIKKjjnl4As"
      },
      "source": [
        "Ya terdapat redudansi/duplikasi == 100 baris / Redundan == 50."
      ]
    },
    {
      "cell_type": "code",
      "metadata": {
        "id": "WDqaB0Xxl4As",
        "colab": {
          "base_uri": "https://localhost:8080/"
        },
        "outputId": "3bb468de-2289-48e9-ceac-4f877b37bbd1"
      },
      "source": [
        "merged_titanic.duplicated(keep=False).sum()"
      ],
      "execution_count": null,
      "outputs": [
        {
          "output_type": "execute_result",
          "data": {
            "text/plain": [
              "100"
            ]
          },
          "metadata": {},
          "execution_count": 25
        }
      ]
    },
    {
      "cell_type": "markdown",
      "metadata": {
        "id": "BEd-4G1_l4As"
      },
      "source": [
        "(b) Apa yang dapat Anda lalukan untuk menangani redudansi data tersebut? Implementasikan dengan code!"
      ]
    },
    {
      "cell_type": "markdown",
      "metadata": {
        "id": "4JRjs9mGC5XJ"
      },
      "source": [
        "Redudansi data dapat ditangani dengan menghapus atau melakukan drop terhadap data yang duplikat. Hal tersebut dilakukan agar tidak adanya kesalahan pada pengambilan kesimpulan serta tidak mengurangi akurasi pada data."
      ]
    },
    {
      "cell_type": "code",
      "metadata": {
        "id": "A9O0ELOPl4As"
      },
      "source": [
        "# dropping duplicate values\n",
        "merged_titanic = merged_titanic.drop_duplicates()"
      ],
      "execution_count": null,
      "outputs": []
    },
    {
      "cell_type": "code",
      "metadata": {
        "id": "dey8QvfDl4As",
        "colab": {
          "base_uri": "https://localhost:8080/"
        },
        "outputId": "9dbe3898-823f-45bd-bc2d-3952f03882b8"
      },
      "source": [
        "merged_titanic.duplicated(keep=False).sum()"
      ],
      "execution_count": null,
      "outputs": [
        {
          "output_type": "execute_result",
          "data": {
            "text/plain": [
              "0"
            ]
          },
          "metadata": {},
          "execution_count": 27
        }
      ]
    },
    {
      "cell_type": "markdown",
      "metadata": {
        "id": "5nEuIEIZAkfq"
      },
      "source": [
        "Terlihat pada code di atas, bahwa sudah tidak ada lagi duplikasi setelah ditangani."
      ]
    },
    {
      "cell_type": "markdown",
      "metadata": {
        "id": "Mz7RWdqQl4At"
      },
      "source": [
        "(c) Berikan alasan mengapa redudansi data perlu ditangani?\n",
        "> Contoh jawaban: \n",
        "* Menghabiskan tempat penyimpanan data\n",
        "* Menimbulkan inkonsisten data\n",
        "* Pemborosan ruang penyimpanan \n",
        "* Biaya lebih tinggi\n",
        "* Mengurangi akurasi data\n",
        "* Menyebabkan kesalahan pada pengambilan keputusan/kesimpulan\n",
        "\n"
      ]
    },
    {
      "cell_type": "markdown",
      "metadata": {
        "id": "18v2FKJzjcPQ"
      },
      "source": [
        "### Outlier"
      ]
    },
    {
      "cell_type": "markdown",
      "metadata": {
        "id": "GN-hQ0_1vUel"
      },
      "source": [
        "Outlier merupakan observasi yang tidak biasa yang muncul pada salah satu titik ekstrim dari sebagian besar data. Titik ekstrim di sini adalah nilai yang terlalu kecil atau nilai yang terlalu besar jika dibandingkan dengan sebagian besar nilai lain dalam kelompoknya."
      ]
    },
    {
      "cell_type": "markdown",
      "metadata": {
        "id": "eKcNhMswxqnd"
      },
      "source": [
        "Outlier dapat ditangani dengan melakukan hal-hal berikut ini:\n",
        "\n",
        "*   Jika persentase outliers tidak signifikan, opsi yang mungkin dilakukan adalah drop column/row.\n",
        "*   Jika datanya relatif sedikit, opsi yang mungkin dilakukan adalah mengisi dengan nilai statistik tertentu Pengisian data dapat dilakukan dengan:\n",
        "  * Nilai rata-rata \n",
        "  * Nilai median\n",
        "  * Nilai modus\n",
        "*   Jika terdapat human error, maka opsi yang mungkin adalah memperbaiki dengan manual.\n",
        "*   Jika asumsi data normal, maka outlier dapat dibiarkan saja.\n",
        "\n"
      ]
    },
    {
      "cell_type": "code",
      "metadata": {
        "colab": {
          "base_uri": "https://localhost:8080/",
          "height": 295
        },
        "id": "q2E1LoKwOVF0",
        "scrolled": true,
        "outputId": "c48251f8-2fa3-4d72-a845-215ef339db3d"
      },
      "source": [
        "merged_titanic.plot.scatter(x=\"fare\", y='survived', figsize=(6,4))"
      ],
      "execution_count": null,
      "outputs": [
        {
          "output_type": "execute_result",
          "data": {
            "text/plain": [
              "<matplotlib.axes._subplots.AxesSubplot at 0x7f704f941a10>"
            ]
          },
          "metadata": {},
          "execution_count": 28
        },
        {
          "output_type": "display_data",
          "data": {
            "image/png": "[encoded data removed]",
            "text/plain": [
              "<Figure size 432x288 with 1 Axes>"
            ]
          },
          "metadata": {
            "needs_background": "light"
          }
        }
      ]
    },
    {
      "cell_type": "markdown",
      "metadata": {
        "id": "af03UEXVz-Rh"
      },
      "source": [
        "Dari scatter plot di atas terlihat bahwa ada nilai fare yang sangat besar (outlier) pada penumpang yang survived."
      ]
    },
    {
      "cell_type": "code",
      "metadata": {
        "colab": {
          "base_uri": "https://localhost:8080/",
          "height": 280
        },
        "id": "02ShW0HTOVF7",
        "outputId": "760cd5b3-2e97-45fd-a9e4-e7fe9660373d"
      },
      "source": [
        "data = merged_titanic.drop(['survived'],axis=1)\n",
        "data.boxplot(figsize=(20,3))"
      ],
      "execution_count": null,
      "outputs": [
        {
          "output_type": "stream",
          "name": "stderr",
          "text": [
            "/usr/local/lib/python3.7/dist-packages/numpy/core/_asarray.py:83: VisibleDeprecationWarning: Creating an ndarray from ragged nested sequences (which is a list-or-tuple of lists-or-tuples-or ndarrays with different lengths or shapes) is deprecated. If you meant to do this, you must specify 'dtype=object' when creating the ndarray\n",
            "  return array(a, dtype, copy=False, order=order)\n"
          ]
        },
        {
          "output_type": "execute_result",
          "data": {
            "text/plain": [
              "<matplotlib.axes._subplots.AxesSubplot at 0x7f704ff726d0>"
            ]
          },
          "metadata": {},
          "execution_count": 29
        },
        {
          "output_type": "display_data",
          "data": {
            "image/png": "[encoded data removed]",
            "text/plain": [
              "<Figure size 1440x216 with 1 Axes>"
            ]
          },
          "metadata": {
            "needs_background": "light"
          }
        }
      ]
    },
    {
      "cell_type": "markdown",
      "metadata": {
        "id": "l2Mz6B6Ylku7"
      },
      "source": [
        "Boxplot juga dapat digunakan untuk menunjukkan adanya outlier. Bagian utama boxplot merupakan sebuah kotak Box yang menyajikan interquartile range (IQR). Garis yang merupakan perpanjangan dari box dinamakan dengan whiskers. Nilai yang berada di atas atau dibawah whisker dinamakan nilai outlier atau ekstrim."
      ]
    },
    {
      "cell_type": "markdown",
      "metadata": {
        "id": "Qs6DEaIu0_-3"
      },
      "source": [
        "## **SOAL 2**\n",
        "\n",
        "(a) Dari boxplot yang Anda lihat, atribut apa yang mengandung outlier paling banyak?\n",
        "\n",
        "* Jawaban \"fare\" jika melihat dari **boxplot**, terdapat banyak value yang berada diluar dari persebaran value normalnya/terdapat banyak data yang melebihi batas atas.\n",
        "\n",
        "* Jawaban adalah “parch” jika menghitung dengan **metode IQR**.\n",
        "\n",
        "* Jawaban adalah “fare” jika menghitung dengan **metode z-score**."
      ]
    },
    {
      "cell_type": "markdown",
      "metadata": {
        "id": "9clvzQNg7MRx"
      },
      "source": [
        "(b) Implementasikan code untuk menampilkan banyaknya outlier pada atribut tersebut!"
      ]
    },
    {
      "cell_type": "markdown",
      "metadata": {
        "id": "7yICBAehl4Au"
      },
      "source": [
        "* Cukup menampilkan banyaknya outlier pada atribut yang disebutkan pada soal a.\n",
        "    * Metode yang valid:\n",
        "        * IQR: \n",
        "            * Age: 9 / 11(kalau masih ada duplikasi)\n",
        "            * Boat: 0\n",
        "            * Body: 0\n",
        "            * Cabin: 0\n",
        "            * Embarked: 0\n",
        "            * Fare: 171 / 179 (kalau masih ada duplikasi)\n",
        "            * Home.dest: 0 \n",
        "            * Name: 0\n",
        "            * Parch: 307 / 317 (kalau masih ada duplikasi)\n",
        "            * Pclass: 0\n",
        "            * Sex: 0\n",
        "            * Sibsp: 57\n",
        "            * Ticket:0\n",
        "            \n",
        "        * Z-score\n",
        "            * Parch: 24\n",
        "            * Fare: 38\n",
        "            * Age: 3\n",
        "            * Sibsp: 37\n",
        "            * Body: 0\n",
        "            \n",
        "        * Pasang threshold tertentu yang masuk akal lalu hitung dengan kode.\n",
        "        * Metode lain yang sudah teruji\n"
      ]
    },
    {
      "cell_type": "code",
      "metadata": {
        "id": "9FNJvGOyz-Rj",
        "colab": {
          "base_uri": "https://localhost:8080/"
        },
        "outputId": "57ea9028-0bb5-4d84-b611-11087b88fece"
      },
      "source": [
        "# 2(b) Implementasi code di sini\n",
        "\n",
        "# Contoh solusi IQR\n",
        "\n",
        "# Mengurutkan data untuk mencari quartil.\n",
        "sorted_data = merged_titanic.sort_values(by=['fare'])\n",
        "\n",
        "# Menghitung quartil 1 dan 3.\n",
        "Q1 = sorted_data.fare.quantile(0.25)\n",
        "Q3 = sorted_data.fare.quantile(0.75)\n",
        "\n",
        "# Menghitung RUB dan RLB.\n",
        "IQR = Q3 - Q1\n",
        "lower_limit = Q1 - 1.5*IQR\n",
        "upper_limit = Q3 + 1.5*IQR\n",
        "\n",
        "# Menampilkan banyaknya outlier pada atribut fare.\n",
        "outliers = []\n",
        "def detect_outliers(data):\n",
        "    for i in sorted_data.fare:\n",
        "        if i < lower_limit or i > upper_limit:\n",
        "            outliers.append(i)\n",
        "    return outliers\n",
        "fare_outliers = detect_outliers(sorted_data.fare)\n",
        "print (len(fare_outliers))"
      ],
      "execution_count": null,
      "outputs": [
        {
          "output_type": "stream",
          "name": "stdout",
          "text": [
            "171\n"
          ]
        }
      ]
    },
    {
      "cell_type": "markdown",
      "metadata": {
        "id": "X85RWnpBz-Rj"
      },
      "source": [
        "(c) Apa yang dapat Anda lakukan untuk menangani outlier tersebut? Implementasikan dengan code!\n",
        "\n",
        "* Drop column/row → argumen mungkin terkait jumlah data atau persentase outliers yang tidak signifikan atau pengaruh outliers sangat jahat untuk data\n",
        "* Mengisi dengan nilai statistik tertentu → argumennya mungkin sayang kalau datanya dibuang, datanya relatif sedikit. Beberapa argumen tambahan pemilihan nilai untuk mengganti outliers:\n",
        "    * nilai rata-rata → central tendency data di tengah\n",
        "    * nilai median → central tendency data di kanan/kiri\n",
        "    * nilai modus → bisa karena frekuensi modusnya terbilang sangat jauh dengan yang lain\n",
        "    * nilai distribusi normal → asumsi data terdistribusi normal\n",
        "* Mengisi dengan menggunakan model machine learning (advanced but possible)\n",
        "* Memperbaiki dengan manual → ada human error\n",
        "* Dibiarkan saja → dianggap sebagai data karena kelihatan normal"
      ]
    },
    {
      "cell_type": "code",
      "metadata": {
        "id": "vMBAr9Rb7cFd"
      },
      "source": [
        "# 2(c) Implementasi code di sini\n",
        "\n",
        "# Contoh solusi dengan remove/drop data outlier pada atribut fare agar distribusi datanya merata.\n",
        "\n",
        "removal_outlier = sorted_data.loc[(sorted_data.fare > lower_limit) & (sorted_data.fare < upper_limit)]"
      ],
      "execution_count": null,
      "outputs": []
    },
    {
      "cell_type": "markdown",
      "metadata": {
        "id": "bd-aKJ9lwI0O"
      },
      "source": [
        "### Missing Values"
      ]
    },
    {
      "cell_type": "markdown",
      "metadata": {
        "id": "ZdkXMlUHWxzY"
      },
      "source": [
        "Terkadang data mungkin dalam format yang benar, tetapi beberapa nilainya hilang.\n",
        "\n",
        "*   Nilai yang hilang terjadi ketika tidak ada nilai data yang disimpan untuk suatu variabel (fitur) dalam suatu observasi.\n",
        "*   Biasanya missing value di datase muncul sebagai “?”, “T/A”, 0 atau hanya sel kosong."
      ]
    },
    {
      "cell_type": "markdown",
      "metadata": {
        "id": "tw3zM_5DY3C6"
      },
      "source": [
        "Untuk menangani missing values, tidak terdapat jawaban tunggal yang selalu bekerja untuk semua skenario, karena  tentunya penanganan missing values harus disesuaikan dengan kondisi data atau fitur yang memiliki missing values. Namun, terdapat beberapa opsi umum yang dapat dipertimbangkan, yaitu: \n",
        "\n",
        "*   Periksa lagi dengan orang/kelompok yang mengumpulkan data.\n",
        "*   Jika kita tidak mengetahui nilai yang hilang, opsi yang mungkin adalah menghapus/drop missing values.\n",
        "    * Menghapus kolom yang mengandung missing values, atau \n",
        "    * Menghapus beberapa baris data yang mengandung missing values.\n",
        "*  Jika data relatif sedikit, opsi yang mungkin adalah mengganti/replace nilai missing values. \n",
        "    * Mengganti nilai missing value dengan nilai mean keseluruhan variabel.\n",
        "    * Jika variabelnya non-numerik, ganti nilai missing value dengan frekuensi/modus. \n",
        "*   Jika kita berasumsi data tersebut tetap akan berguna meskipun ada fitur yang hilang, maka kita dapat membiarkan missing values. \n",
        "\n",
        "\n",
        "\n",
        "\n"
      ]
    },
    {
      "cell_type": "code",
      "metadata": {
        "id": "jxmLWlatOVF8"
      },
      "source": [
        "# Cek missing value\n",
        "def cek_null(df):\n",
        "    col_na = df.isnull().sum().sort_values(ascending=False)\n",
        "    percent = col_na / len(df)\n",
        "    \n",
        "    missing_data = pd.concat([col_na, percent], axis=1, keys=['Total', 'Percent'])\n",
        "    print(missing_data[missing_data['Total'] > 0])"
      ],
      "execution_count": null,
      "outputs": []
    },
    {
      "cell_type": "code",
      "metadata": {
        "colab": {
          "base_uri": "https://localhost:8080/"
        },
        "id": "G_vYn8ZxOVF9",
        "outputId": "77c1949b-d152-48d3-a92a-f997e69b7292"
      },
      "source": [
        "cek_null(merged_titanic)"
      ],
      "execution_count": null,
      "outputs": [
        {
          "output_type": "stream",
          "name": "stdout",
          "text": [
            "           Total   Percent\n",
            "body        1188  0.907563\n",
            "cabin       1014  0.774637\n",
            "boat         823  0.628724\n",
            "home.dest    564  0.430863\n",
            "age          263  0.200917\n",
            "embarked       2  0.001528\n",
            "fare           1  0.000764\n"
          ]
        }
      ]
    },
    {
      "cell_type": "markdown",
      "metadata": {
        "id": "E6VwvbP5z-Rk"
      },
      "source": [
        "Terdapat beberapa atribut memiliki null value yang sangat banyak, atribut body memiliki null value yang paling banyak hingga 90%, \"cabin\" hingga 77%"
      ]
    },
    {
      "cell_type": "code",
      "metadata": {
        "colab": {
          "base_uri": "https://localhost:8080/"
        },
        "id": "1Lf9rpqPpQUe",
        "outputId": "f95c1d54-c17f-4973-eb49-08a4e62bfdbe"
      },
      "source": [
        "# Melihat isi cabin (20 baris pertama)\n",
        "merged_titanic['cabin'].head(20)"
      ],
      "execution_count": null,
      "outputs": [
        {
          "output_type": "execute_result",
          "data": {
            "text/plain": [
              "0          B5\n",
              "1     C22 C26\n",
              "2     C22 C26\n",
              "3     C22 C26\n",
              "4     C22 C26\n",
              "5         E12\n",
              "6          D7\n",
              "7         A36\n",
              "8        C101\n",
              "9         NaN\n",
              "10    C62 C64\n",
              "11    C62 C64\n",
              "12        B35\n",
              "13        NaN\n",
              "14        A23\n",
              "15        NaN\n",
              "16    B58 B60\n",
              "17    B58 B60\n",
              "18        D15\n",
              "19         C6\n",
              "Name: cabin, dtype: object"
            ]
          },
          "metadata": {},
          "execution_count": 34
        }
      ]
    },
    {
      "cell_type": "code",
      "metadata": {
        "colab": {
          "base_uri": "https://localhost:8080/",
          "height": 306
        },
        "id": "wDg6qTcuOVF-",
        "outputId": "02bfad65-958d-41a6-da1b-d2f6c61b4934"
      },
      "source": [
        "# Melihat berapa penumpang yang survive di tiap cabin\n",
        "(merged_titanic\n",
        " .groupby([merged_titanic.cabin.str[:1],'survived'])\n",
        " .survived\n",
        " .count()\n",
        " .unstack())"
      ],
      "execution_count": null,
      "outputs": [
        {
          "output_type": "execute_result",
          "data": {
            "text/html": [
              "<div>\n",
              "<style scoped>\n",
              "    .dataframe tbody tr th:only-of-type {\n",
              "        vertical-align: middle;\n",
              "    }\n",
              "\n",
              "    .dataframe tbody tr th {\n",
              "        vertical-align: top;\n",
              "    }\n",
              "\n",
              "    .dataframe thead th {\n",
              "        text-align: right;\n",
              "    }\n",
              "</style>\n",
              "<table border=\"1\" class=\"dataframe\">\n",
              "  <thead>\n",
              "    <tr style=\"text-align: right;\">\n",
              "      <th>survived</th>\n",
              "      <th>0</th>\n",
              "      <th>1</th>\n",
              "    </tr>\n",
              "    <tr>\n",
              "      <th>cabin</th>\n",
              "      <th></th>\n",
              "      <th></th>\n",
              "    </tr>\n",
              "  </thead>\n",
              "  <tbody>\n",
              "    <tr>\n",
              "      <th>A</th>\n",
              "      <td>11.0</td>\n",
              "      <td>11.0</td>\n",
              "    </tr>\n",
              "    <tr>\n",
              "      <th>B</th>\n",
              "      <td>18.0</td>\n",
              "      <td>47.0</td>\n",
              "    </tr>\n",
              "    <tr>\n",
              "      <th>C</th>\n",
              "      <td>37.0</td>\n",
              "      <td>57.0</td>\n",
              "    </tr>\n",
              "    <tr>\n",
              "      <th>D</th>\n",
              "      <td>14.0</td>\n",
              "      <td>32.0</td>\n",
              "    </tr>\n",
              "    <tr>\n",
              "      <th>E</th>\n",
              "      <td>11.0</td>\n",
              "      <td>30.0</td>\n",
              "    </tr>\n",
              "    <tr>\n",
              "      <th>F</th>\n",
              "      <td>8.0</td>\n",
              "      <td>13.0</td>\n",
              "    </tr>\n",
              "    <tr>\n",
              "      <th>G</th>\n",
              "      <td>2.0</td>\n",
              "      <td>3.0</td>\n",
              "    </tr>\n",
              "    <tr>\n",
              "      <th>T</th>\n",
              "      <td>1.0</td>\n",
              "      <td>NaN</td>\n",
              "    </tr>\n",
              "  </tbody>\n",
              "</table>\n",
              "</div>"
            ],
            "text/plain": [
              "survived     0     1\n",
              "cabin               \n",
              "A         11.0  11.0\n",
              "B         18.0  47.0\n",
              "C         37.0  57.0\n",
              "D         14.0  32.0\n",
              "E         11.0  30.0\n",
              "F          8.0  13.0\n",
              "G          2.0   3.0\n",
              "T          1.0   NaN"
            ]
          },
          "metadata": {},
          "execution_count": 35
        }
      ]
    },
    {
      "cell_type": "code",
      "metadata": {
        "colab": {
          "base_uri": "https://localhost:8080/",
          "height": 306
        },
        "id": "F98RNY5-OVF_",
        "outputId": "5b7f65b3-c37e-4451-ac85-be5791a33d4d"
      },
      "source": [
        "# Melihat rerata fare di tiap cabin, untuk kelompok yang survived dan tidak survived\n",
        "(merged_titanic\n",
        " .groupby([merged_titanic.cabin.str[:1],'survived'])\n",
        " .fare\n",
        " .mean()\n",
        " .unstack())"
      ],
      "execution_count": null,
      "outputs": [
        {
          "output_type": "execute_result",
          "data": {
            "text/html": [
              "<div>\n",
              "<style scoped>\n",
              "    .dataframe tbody tr th:only-of-type {\n",
              "        vertical-align: middle;\n",
              "    }\n",
              "\n",
              "    .dataframe tbody tr th {\n",
              "        vertical-align: top;\n",
              "    }\n",
              "\n",
              "    .dataframe thead th {\n",
              "        text-align: right;\n",
              "    }\n",
              "</style>\n",
              "<table border=\"1\" class=\"dataframe\">\n",
              "  <thead>\n",
              "    <tr style=\"text-align: right;\">\n",
              "      <th>survived</th>\n",
              "      <th>0</th>\n",
              "      <th>1</th>\n",
              "    </tr>\n",
              "    <tr>\n",
              "      <th>cabin</th>\n",
              "      <th></th>\n",
              "      <th></th>\n",
              "    </tr>\n",
              "  </thead>\n",
              "  <tbody>\n",
              "    <tr>\n",
              "      <th>A</th>\n",
              "      <td>34.168182</td>\n",
              "      <td>48.320445</td>\n",
              "    </tr>\n",
              "    <tr>\n",
              "      <th>B</th>\n",
              "      <td>76.363422</td>\n",
              "      <td>140.007628</td>\n",
              "    </tr>\n",
              "    <tr>\n",
              "      <th>C</th>\n",
              "      <td>111.878832</td>\n",
              "      <td>105.361112</td>\n",
              "    </tr>\n",
              "    <tr>\n",
              "      <th>D</th>\n",
              "      <td>46.653264</td>\n",
              "      <td>55.787247</td>\n",
              "    </tr>\n",
              "    <tr>\n",
              "      <th>E</th>\n",
              "      <td>46.431436</td>\n",
              "      <td>57.546807</td>\n",
              "    </tr>\n",
              "    <tr>\n",
              "      <th>F</th>\n",
              "      <td>11.241150</td>\n",
              "      <td>22.287500</td>\n",
              "    </tr>\n",
              "    <tr>\n",
              "      <th>G</th>\n",
              "      <td>10.462500</td>\n",
              "      <td>16.700000</td>\n",
              "    </tr>\n",
              "    <tr>\n",
              "      <th>T</th>\n",
              "      <td>35.500000</td>\n",
              "      <td>NaN</td>\n",
              "    </tr>\n",
              "  </tbody>\n",
              "</table>\n",
              "</div>"
            ],
            "text/plain": [
              "survived           0           1\n",
              "cabin                           \n",
              "A          34.168182   48.320445\n",
              "B          76.363422  140.007628\n",
              "C         111.878832  105.361112\n",
              "D          46.653264   55.787247\n",
              "E          46.431436   57.546807\n",
              "F          11.241150   22.287500\n",
              "G          10.462500   16.700000\n",
              "T          35.500000         NaN"
            ]
          },
          "metadata": {},
          "execution_count": 36
        }
      ]
    },
    {
      "cell_type": "code",
      "metadata": {
        "colab": {
          "base_uri": "https://localhost:8080/",
          "height": 191
        },
        "id": "SaljTpbZqsvH",
        "outputId": "e8e0b219-f154-4c55-fdbb-2573dd37908a"
      },
      "source": [
        "# Drop atribut yang dianggap tidak penting\n",
        "titanic_cleaned = merged_titanic.drop(['name', 'ticket', 'body', 'cabin','home.dest'], axis=1)\n",
        "titanic_cleaned.head()"
      ],
      "execution_count": null,
      "outputs": [
        {
          "output_type": "execute_result",
          "data": {
            "text/html": [
              "<div>\n",
              "<style scoped>\n",
              "    .dataframe tbody tr th:only-of-type {\n",
              "        vertical-align: middle;\n",
              "    }\n",
              "\n",
              "    .dataframe tbody tr th {\n",
              "        vertical-align: top;\n",
              "    }\n",
              "\n",
              "    .dataframe thead th {\n",
              "        text-align: right;\n",
              "    }\n",
              "</style>\n",
              "<table border=\"1\" class=\"dataframe\">\n",
              "  <thead>\n",
              "    <tr style=\"text-align: right;\">\n",
              "      <th></th>\n",
              "      <th>pclass</th>\n",
              "      <th>survived</th>\n",
              "      <th>sex</th>\n",
              "      <th>age</th>\n",
              "      <th>sibsp</th>\n",
              "      <th>parch</th>\n",
              "      <th>fare</th>\n",
              "      <th>embarked</th>\n",
              "      <th>boat</th>\n",
              "    </tr>\n",
              "  </thead>\n",
              "  <tbody>\n",
              "    <tr>\n",
              "      <th>0</th>\n",
              "      <td>1</td>\n",
              "      <td>1</td>\n",
              "      <td>female</td>\n",
              "      <td>29.00</td>\n",
              "      <td>0</td>\n",
              "      <td>0</td>\n",
              "      <td>211.3375</td>\n",
              "      <td>S</td>\n",
              "      <td>2</td>\n",
              "    </tr>\n",
              "    <tr>\n",
              "      <th>1</th>\n",
              "      <td>1</td>\n",
              "      <td>1</td>\n",
              "      <td>male</td>\n",
              "      <td>0.92</td>\n",
              "      <td>1</td>\n",
              "      <td>2</td>\n",
              "      <td>151.5500</td>\n",
              "      <td>S</td>\n",
              "      <td>11</td>\n",
              "    </tr>\n",
              "    <tr>\n",
              "      <th>2</th>\n",
              "      <td>1</td>\n",
              "      <td>0</td>\n",
              "      <td>female</td>\n",
              "      <td>2.00</td>\n",
              "      <td>1</td>\n",
              "      <td>2</td>\n",
              "      <td>151.5500</td>\n",
              "      <td>S</td>\n",
              "      <td>NaN</td>\n",
              "    </tr>\n",
              "    <tr>\n",
              "      <th>3</th>\n",
              "      <td>1</td>\n",
              "      <td>0</td>\n",
              "      <td>male</td>\n",
              "      <td>30.00</td>\n",
              "      <td>1</td>\n",
              "      <td>2</td>\n",
              "      <td>151.5500</td>\n",
              "      <td>S</td>\n",
              "      <td>NaN</td>\n",
              "    </tr>\n",
              "    <tr>\n",
              "      <th>4</th>\n",
              "      <td>1</td>\n",
              "      <td>0</td>\n",
              "      <td>female</td>\n",
              "      <td>25.00</td>\n",
              "      <td>1</td>\n",
              "      <td>2</td>\n",
              "      <td>151.5500</td>\n",
              "      <td>S</td>\n",
              "      <td>NaN</td>\n",
              "    </tr>\n",
              "  </tbody>\n",
              "</table>\n",
              "</div>"
            ],
            "text/plain": [
              "   pclass  survived     sex    age  sibsp  parch      fare embarked boat\n",
              "0       1         1  female  29.00      0      0  211.3375        S    2\n",
              "1       1         1    male   0.92      1      2  151.5500        S   11\n",
              "2       1         0  female   2.00      1      2  151.5500        S  NaN\n",
              "3       1         0    male  30.00      1      2  151.5500        S  NaN\n",
              "4       1         0  female  25.00      1      2  151.5500        S  NaN"
            ]
          },
          "metadata": {},
          "execution_count": 37
        }
      ]
    },
    {
      "cell_type": "markdown",
      "metadata": {
        "id": "kv7NsoTEm_zU"
      },
      "source": [
        "Atribut-atribut tersebut dianggap tidak penting berdasarkan pertimbangan, nalar, atau basic knowledge manusia. Sebagai contoh, apabila kita ingin mengukur survival rate penumpang Titanic, atribut nama pada dataset ini tidak mengindikasikan apakah dia survive apa tidak. Selain itu, ada beberapa atribut juga yang mungkin tidak akan mempengaruhi pengukuran tersebut. Sehingga atribut-atribut tersebut dapat didrop.\n"
      ]
    },
    {
      "cell_type": "markdown",
      "metadata": {
        "id": "2wg_F4N3tQPn"
      },
      "source": [
        "Atribut perlu didrop apabila:\n",
        "\n",
        "*   Atribut tidak intuitif.\n",
        "*   Atribut mempunyai banyak missing values.\n",
        "*   Atribut tidak informatif.\n",
        "*   Atribut dapat membahayakan untuk model tertentu.\n",
        "*   Atribut tersebut dapat dihasilkan dari atribut yang lain.\n",
        "\n"
      ]
    },
    {
      "cell_type": "code",
      "metadata": {
        "colab": {
          "base_uri": "https://localhost:8080/"
        },
        "id": "TSXGJngarAAT",
        "outputId": "ff35c41e-a657-45ee-f8a4-25eb269880f8"
      },
      "source": [
        "cek_null(titanic_cleaned)"
      ],
      "execution_count": null,
      "outputs": [
        {
          "output_type": "stream",
          "name": "stdout",
          "text": [
            "          Total   Percent\n",
            "boat        823  0.628724\n",
            "age         263  0.200917\n",
            "embarked      2  0.001528\n",
            "fare          1  0.000764\n"
          ]
        }
      ]
    },
    {
      "cell_type": "markdown",
      "metadata": {
        "id": "e7Q-qUDPz-Rm"
      },
      "source": [
        "Setelah atribut yang tidak penting dihapus, perlu ditangani atribut yang masih mengandung null value."
      ]
    },
    {
      "cell_type": "code",
      "metadata": {
        "id": "vlyjIawArFUI"
      },
      "source": [
        "# Untuk atribut boat, null value akan diisi dengan \"None\"\n",
        "titanic_cleaned['boat'] = titanic_cleaned['boat'].fillna('None')"
      ],
      "execution_count": null,
      "outputs": []
    },
    {
      "cell_type": "code",
      "metadata": {
        "colab": {
          "base_uri": "https://localhost:8080/",
          "height": 881
        },
        "id": "IMbQ5pRDrgIu",
        "outputId": "e2a3ec6c-1a7a-4788-b98b-85ee13ad25c8"
      },
      "source": [
        "# Check jumlah yg survived dan tidak jika mempunyai boat atau tidak\n",
        "(titanic_cleaned\n",
        " .groupby([titanic_cleaned.boat,'survived'])\n",
        " .boat\n",
        " .count()\n",
        " .unstack())"
      ],
      "execution_count": null,
      "outputs": [
        {
          "output_type": "execute_result",
          "data": {
            "text/html": [
              "<div>\n",
              "<style scoped>\n",
              "    .dataframe tbody tr th:only-of-type {\n",
              "        vertical-align: middle;\n",
              "    }\n",
              "\n",
              "    .dataframe tbody tr th {\n",
              "        vertical-align: top;\n",
              "    }\n",
              "\n",
              "    .dataframe thead th {\n",
              "        text-align: right;\n",
              "    }\n",
              "</style>\n",
              "<table border=\"1\" class=\"dataframe\">\n",
              "  <thead>\n",
              "    <tr style=\"text-align: right;\">\n",
              "      <th>survived</th>\n",
              "      <th>0</th>\n",
              "      <th>1</th>\n",
              "    </tr>\n",
              "    <tr>\n",
              "      <th>boat</th>\n",
              "      <th></th>\n",
              "      <th></th>\n",
              "    </tr>\n",
              "  </thead>\n",
              "  <tbody>\n",
              "    <tr>\n",
              "      <th>1</th>\n",
              "      <td>NaN</td>\n",
              "      <td>5.0</td>\n",
              "    </tr>\n",
              "    <tr>\n",
              "      <th>10</th>\n",
              "      <td>NaN</td>\n",
              "      <td>29.0</td>\n",
              "    </tr>\n",
              "    <tr>\n",
              "      <th>11</th>\n",
              "      <td>NaN</td>\n",
              "      <td>25.0</td>\n",
              "    </tr>\n",
              "    <tr>\n",
              "      <th>12</th>\n",
              "      <td>1.0</td>\n",
              "      <td>18.0</td>\n",
              "    </tr>\n",
              "    <tr>\n",
              "      <th>13</th>\n",
              "      <td>NaN</td>\n",
              "      <td>39.0</td>\n",
              "    </tr>\n",
              "    <tr>\n",
              "      <th>13 15</th>\n",
              "      <td>NaN</td>\n",
              "      <td>2.0</td>\n",
              "    </tr>\n",
              "    <tr>\n",
              "      <th>13 15 B</th>\n",
              "      <td>NaN</td>\n",
              "      <td>1.0</td>\n",
              "    </tr>\n",
              "    <tr>\n",
              "      <th>14</th>\n",
              "      <td>1.0</td>\n",
              "      <td>32.0</td>\n",
              "    </tr>\n",
              "    <tr>\n",
              "      <th>15</th>\n",
              "      <td>NaN</td>\n",
              "      <td>37.0</td>\n",
              "    </tr>\n",
              "    <tr>\n",
              "      <th>15 16</th>\n",
              "      <td>NaN</td>\n",
              "      <td>1.0</td>\n",
              "    </tr>\n",
              "    <tr>\n",
              "      <th>16</th>\n",
              "      <td>NaN</td>\n",
              "      <td>23.0</td>\n",
              "    </tr>\n",
              "    <tr>\n",
              "      <th>2</th>\n",
              "      <td>NaN</td>\n",
              "      <td>13.0</td>\n",
              "    </tr>\n",
              "    <tr>\n",
              "      <th>3</th>\n",
              "      <td>NaN</td>\n",
              "      <td>26.0</td>\n",
              "    </tr>\n",
              "    <tr>\n",
              "      <th>4</th>\n",
              "      <td>NaN</td>\n",
              "      <td>31.0</td>\n",
              "    </tr>\n",
              "    <tr>\n",
              "      <th>5</th>\n",
              "      <td>NaN</td>\n",
              "      <td>27.0</td>\n",
              "    </tr>\n",
              "    <tr>\n",
              "      <th>5 7</th>\n",
              "      <td>NaN</td>\n",
              "      <td>2.0</td>\n",
              "    </tr>\n",
              "    <tr>\n",
              "      <th>5 9</th>\n",
              "      <td>NaN</td>\n",
              "      <td>1.0</td>\n",
              "    </tr>\n",
              "    <tr>\n",
              "      <th>6</th>\n",
              "      <td>NaN</td>\n",
              "      <td>20.0</td>\n",
              "    </tr>\n",
              "    <tr>\n",
              "      <th>7</th>\n",
              "      <td>NaN</td>\n",
              "      <td>23.0</td>\n",
              "    </tr>\n",
              "    <tr>\n",
              "      <th>8</th>\n",
              "      <td>NaN</td>\n",
              "      <td>23.0</td>\n",
              "    </tr>\n",
              "    <tr>\n",
              "      <th>8 10</th>\n",
              "      <td>NaN</td>\n",
              "      <td>1.0</td>\n",
              "    </tr>\n",
              "    <tr>\n",
              "      <th>9</th>\n",
              "      <td>NaN</td>\n",
              "      <td>25.0</td>\n",
              "    </tr>\n",
              "    <tr>\n",
              "      <th>A</th>\n",
              "      <td>4.0</td>\n",
              "      <td>7.0</td>\n",
              "    </tr>\n",
              "    <tr>\n",
              "      <th>B</th>\n",
              "      <td>1.0</td>\n",
              "      <td>8.0</td>\n",
              "    </tr>\n",
              "    <tr>\n",
              "      <th>C</th>\n",
              "      <td>1.0</td>\n",
              "      <td>37.0</td>\n",
              "    </tr>\n",
              "    <tr>\n",
              "      <th>C D</th>\n",
              "      <td>NaN</td>\n",
              "      <td>2.0</td>\n",
              "    </tr>\n",
              "    <tr>\n",
              "      <th>D</th>\n",
              "      <td>1.0</td>\n",
              "      <td>19.0</td>\n",
              "    </tr>\n",
              "    <tr>\n",
              "      <th>None</th>\n",
              "      <td>800.0</td>\n",
              "      <td>23.0</td>\n",
              "    </tr>\n",
              "  </tbody>\n",
              "</table>\n",
              "</div>"
            ],
            "text/plain": [
              "survived      0     1\n",
              "boat                 \n",
              "1           NaN   5.0\n",
              "10          NaN  29.0\n",
              "11          NaN  25.0\n",
              "12          1.0  18.0\n",
              "13          NaN  39.0\n",
              "13 15       NaN   2.0\n",
              "13 15 B     NaN   1.0\n",
              "14          1.0  32.0\n",
              "15          NaN  37.0\n",
              "15 16       NaN   1.0\n",
              "16          NaN  23.0\n",
              "2           NaN  13.0\n",
              "3           NaN  26.0\n",
              "4           NaN  31.0\n",
              "5           NaN  27.0\n",
              "5 7         NaN   2.0\n",
              "5 9         NaN   1.0\n",
              "6           NaN  20.0\n",
              "7           NaN  23.0\n",
              "8           NaN  23.0\n",
              "8 10        NaN   1.0\n",
              "9           NaN  25.0\n",
              "A           4.0   7.0\n",
              "B           1.0   8.0\n",
              "C           1.0  37.0\n",
              "C D         NaN   2.0\n",
              "D           1.0  19.0\n",
              "None      800.0  23.0"
            ]
          },
          "metadata": {},
          "execution_count": 40
        }
      ]
    },
    {
      "cell_type": "code",
      "metadata": {
        "colab": {
          "base_uri": "https://localhost:8080/"
        },
        "id": "IIZieScPrn5K",
        "outputId": "a5f730d4-6104-4107-81af-a910f0d0c770"
      },
      "source": [
        "cek_null(titanic_cleaned)"
      ],
      "execution_count": null,
      "outputs": [
        {
          "output_type": "stream",
          "name": "stdout",
          "text": [
            "          Total   Percent\n",
            "age         263  0.200917\n",
            "embarked      2  0.001528\n",
            "fare          1  0.000764\n"
          ]
        }
      ]
    },
    {
      "cell_type": "code",
      "metadata": {
        "id": "NKY1kVzWrpsV"
      },
      "source": [
        "# Untuk atribute \"age\", null value akan diisi dengan nilai median\n",
        "col = [\"age\"]\n",
        "for c in col:\n",
        "    median = titanic_cleaned[~titanic_cleaned.isna()].median()[0]\n",
        "    titanic_cleaned[c] = titanic_cleaned[c].fillna(median)"
      ],
      "execution_count": null,
      "outputs": []
    },
    {
      "cell_type": "code",
      "metadata": {
        "id": "tiiVQranr7IZ"
      },
      "source": [
        "# Untuk atribute \"embarked\", null value akan diisi dengan nilai 'C'\n",
        "titanic_cleaned[\"embarked\"] = titanic_cleaned[\"embarked\"].fillna('C')"
      ],
      "execution_count": null,
      "outputs": []
    },
    {
      "cell_type": "code",
      "metadata": {
        "colab": {
          "base_uri": "https://localhost:8080/"
        },
        "id": "4bOiT1f9t34j",
        "outputId": "ccfa914d-a435-4465-8579-834aaff42211"
      },
      "source": [
        "cek_null(titanic_cleaned)"
      ],
      "execution_count": null,
      "outputs": [
        {
          "output_type": "stream",
          "name": "stdout",
          "text": [
            "      Total   Percent\n",
            "fare      1  0.000764\n"
          ]
        }
      ]
    },
    {
      "cell_type": "code",
      "metadata": {
        "colab": {
          "base_uri": "https://localhost:8080/",
          "height": 76
        },
        "id": "voxx4-qyOVGI",
        "outputId": "7a789f9e-67ca-4e73-ab17-c1975fe41d68"
      },
      "source": [
        "# Tinggal atribute \"fare\" yang memiliki 1 baris nilai null\n",
        "titanic_cleaned[titanic_cleaned['fare'].isnull()]"
      ],
      "execution_count": null,
      "outputs": [
        {
          "output_type": "execute_result",
          "data": {
            "text/html": [
              "<div>\n",
              "<style scoped>\n",
              "    .dataframe tbody tr th:only-of-type {\n",
              "        vertical-align: middle;\n",
              "    }\n",
              "\n",
              "    .dataframe tbody tr th {\n",
              "        vertical-align: top;\n",
              "    }\n",
              "\n",
              "    .dataframe thead th {\n",
              "        text-align: right;\n",
              "    }\n",
              "</style>\n",
              "<table border=\"1\" class=\"dataframe\">\n",
              "  <thead>\n",
              "    <tr style=\"text-align: right;\">\n",
              "      <th></th>\n",
              "      <th>pclass</th>\n",
              "      <th>survived</th>\n",
              "      <th>sex</th>\n",
              "      <th>age</th>\n",
              "      <th>sibsp</th>\n",
              "      <th>parch</th>\n",
              "      <th>fare</th>\n",
              "      <th>embarked</th>\n",
              "      <th>boat</th>\n",
              "    </tr>\n",
              "  </thead>\n",
              "  <tbody>\n",
              "    <tr>\n",
              "      <th>1225</th>\n",
              "      <td>3</td>\n",
              "      <td>0</td>\n",
              "      <td>male</td>\n",
              "      <td>60.5</td>\n",
              "      <td>0</td>\n",
              "      <td>0</td>\n",
              "      <td>NaN</td>\n",
              "      <td>S</td>\n",
              "      <td>None</td>\n",
              "    </tr>\n",
              "  </tbody>\n",
              "</table>\n",
              "</div>"
            ],
            "text/plain": [
              "      pclass  survived   sex   age  sibsp  parch  fare embarked  boat\n",
              "1225       3         0  male  60.5      0      0   NaN        S  None"
            ]
          },
          "metadata": {},
          "execution_count": 45
        }
      ]
    },
    {
      "cell_type": "code",
      "metadata": {
        "id": "vj9pull1OVGK"
      },
      "source": [
        "# Hapus baris yang atribute \"fare\" bernilai null\n",
        "titanic_cleaned.dropna(inplace=True)"
      ],
      "execution_count": null,
      "outputs": []
    },
    {
      "cell_type": "code",
      "metadata": {
        "colab": {
          "base_uri": "https://localhost:8080/"
        },
        "id": "ISI2cUbBuapN",
        "outputId": "606a1628-b7db-419d-c5e2-0b65949434b8"
      },
      "source": [
        "titanic_cleaned.shape"
      ],
      "execution_count": null,
      "outputs": [
        {
          "output_type": "execute_result",
          "data": {
            "text/plain": [
              "(1308, 9)"
            ]
          },
          "metadata": {},
          "execution_count": 47
        }
      ]
    },
    {
      "cell_type": "markdown",
      "metadata": {
        "id": "5LvNpzgqz-Ro"
      },
      "source": [
        "Jumlah baris berubah dari 1309 menjadi 1308 dan jumlah fitur dari 14 menjadi 9"
      ]
    },
    {
      "cell_type": "code",
      "metadata": {
        "colab": {
          "base_uri": "https://localhost:8080/",
          "height": 191
        },
        "id": "9IFXEigrOVGK",
        "outputId": "d7dee41a-49f8-4ae8-a200-b7bf6c51d439"
      },
      "source": [
        "titanic_cleaned.head()"
      ],
      "execution_count": null,
      "outputs": [
        {
          "output_type": "execute_result",
          "data": {
            "text/html": [
              "<div>\n",
              "<style scoped>\n",
              "    .dataframe tbody tr th:only-of-type {\n",
              "        vertical-align: middle;\n",
              "    }\n",
              "\n",
              "    .dataframe tbody tr th {\n",
              "        vertical-align: top;\n",
              "    }\n",
              "\n",
              "    .dataframe thead th {\n",
              "        text-align: right;\n",
              "    }\n",
              "</style>\n",
              "<table border=\"1\" class=\"dataframe\">\n",
              "  <thead>\n",
              "    <tr style=\"text-align: right;\">\n",
              "      <th></th>\n",
              "      <th>pclass</th>\n",
              "      <th>survived</th>\n",
              "      <th>sex</th>\n",
              "      <th>age</th>\n",
              "      <th>sibsp</th>\n",
              "      <th>parch</th>\n",
              "      <th>fare</th>\n",
              "      <th>embarked</th>\n",
              "      <th>boat</th>\n",
              "    </tr>\n",
              "  </thead>\n",
              "  <tbody>\n",
              "    <tr>\n",
              "      <th>0</th>\n",
              "      <td>1</td>\n",
              "      <td>1</td>\n",
              "      <td>female</td>\n",
              "      <td>29.00</td>\n",
              "      <td>0</td>\n",
              "      <td>0</td>\n",
              "      <td>211.3375</td>\n",
              "      <td>S</td>\n",
              "      <td>2</td>\n",
              "    </tr>\n",
              "    <tr>\n",
              "      <th>1</th>\n",
              "      <td>1</td>\n",
              "      <td>1</td>\n",
              "      <td>male</td>\n",
              "      <td>0.92</td>\n",
              "      <td>1</td>\n",
              "      <td>2</td>\n",
              "      <td>151.5500</td>\n",
              "      <td>S</td>\n",
              "      <td>11</td>\n",
              "    </tr>\n",
              "    <tr>\n",
              "      <th>2</th>\n",
              "      <td>1</td>\n",
              "      <td>0</td>\n",
              "      <td>female</td>\n",
              "      <td>2.00</td>\n",
              "      <td>1</td>\n",
              "      <td>2</td>\n",
              "      <td>151.5500</td>\n",
              "      <td>S</td>\n",
              "      <td>None</td>\n",
              "    </tr>\n",
              "    <tr>\n",
              "      <th>3</th>\n",
              "      <td>1</td>\n",
              "      <td>0</td>\n",
              "      <td>male</td>\n",
              "      <td>30.00</td>\n",
              "      <td>1</td>\n",
              "      <td>2</td>\n",
              "      <td>151.5500</td>\n",
              "      <td>S</td>\n",
              "      <td>None</td>\n",
              "    </tr>\n",
              "    <tr>\n",
              "      <th>4</th>\n",
              "      <td>1</td>\n",
              "      <td>0</td>\n",
              "      <td>female</td>\n",
              "      <td>25.00</td>\n",
              "      <td>1</td>\n",
              "      <td>2</td>\n",
              "      <td>151.5500</td>\n",
              "      <td>S</td>\n",
              "      <td>None</td>\n",
              "    </tr>\n",
              "  </tbody>\n",
              "</table>\n",
              "</div>"
            ],
            "text/plain": [
              "   pclass  survived     sex    age  sibsp  parch      fare embarked  boat\n",
              "0       1         1  female  29.00      0      0  211.3375        S     2\n",
              "1       1         1    male   0.92      1      2  151.5500        S    11\n",
              "2       1         0  female   2.00      1      2  151.5500        S  None\n",
              "3       1         0    male  30.00      1      2  151.5500        S  None\n",
              "4       1         0  female  25.00      1      2  151.5500        S  None"
            ]
          },
          "metadata": {},
          "execution_count": 48
        }
      ]
    },
    {
      "cell_type": "code",
      "metadata": {
        "colab": {
          "base_uri": "https://localhost:8080/"
        },
        "id": "fwlxWzK7ujcs",
        "outputId": "2f50bd97-1dc8-4cd6-84f8-bbb0e9424964"
      },
      "source": [
        "titanic_cleaned.info()"
      ],
      "execution_count": null,
      "outputs": [
        {
          "output_type": "stream",
          "name": "stdout",
          "text": [
            "<class 'pandas.core.frame.DataFrame'>\n",
            "Int64Index: 1308 entries, 0 to 1308\n",
            "Data columns (total 9 columns):\n",
            " #   Column    Non-Null Count  Dtype  \n",
            "---  ------    --------------  -----  \n",
            " 0   pclass    1308 non-null   int64  \n",
            " 1   survived  1308 non-null   int64  \n",
            " 2   sex       1308 non-null   object \n",
            " 3   age       1308 non-null   float64\n",
            " 4   sibsp     1308 non-null   int64  \n",
            " 5   parch     1308 non-null   int64  \n",
            " 6   fare      1308 non-null   float64\n",
            " 7   embarked  1308 non-null   object \n",
            " 8   boat      1308 non-null   object \n",
            "dtypes: float64(2), int64(4), object(3)\n",
            "memory usage: 102.2+ KB\n"
          ]
        }
      ]
    },
    {
      "cell_type": "code",
      "metadata": {
        "id": "YBTW9QWaunGK"
      },
      "source": [
        "# Melakukan label encoding, untuk mengubah data kategorikal bertipe string ke numeric value\n",
        "col = titanic_cleaned.select_dtypes(include=[\"object\"]).columns\n",
        "\n",
        "for c in col:\n",
        "    if len(titanic_cleaned[c].value_counts()) <= 28:\n",
        "        le = LabelEncoder() \n",
        "        le.fit(list(titanic_cleaned[c].values)) \n",
        "        titanic_cleaned[c] = le.transform(list(titanic_cleaned[c].values))"
      ],
      "execution_count": null,
      "outputs": []
    },
    {
      "cell_type": "code",
      "metadata": {
        "colab": {
          "base_uri": "https://localhost:8080/",
          "height": 191
        },
        "id": "oF5FvWysu97L",
        "outputId": "ba979688-5f57-4fe6-d67b-b9cc35fa3817"
      },
      "source": [
        "titanic_cleaned.head()"
      ],
      "execution_count": null,
      "outputs": [
        {
          "output_type": "execute_result",
          "data": {
            "text/html": [
              "<div>\n",
              "<style scoped>\n",
              "    .dataframe tbody tr th:only-of-type {\n",
              "        vertical-align: middle;\n",
              "    }\n",
              "\n",
              "    .dataframe tbody tr th {\n",
              "        vertical-align: top;\n",
              "    }\n",
              "\n",
              "    .dataframe thead th {\n",
              "        text-align: right;\n",
              "    }\n",
              "</style>\n",
              "<table border=\"1\" class=\"dataframe\">\n",
              "  <thead>\n",
              "    <tr style=\"text-align: right;\">\n",
              "      <th></th>\n",
              "      <th>pclass</th>\n",
              "      <th>survived</th>\n",
              "      <th>sex</th>\n",
              "      <th>age</th>\n",
              "      <th>sibsp</th>\n",
              "      <th>parch</th>\n",
              "      <th>fare</th>\n",
              "      <th>embarked</th>\n",
              "      <th>boat</th>\n",
              "    </tr>\n",
              "  </thead>\n",
              "  <tbody>\n",
              "    <tr>\n",
              "      <th>0</th>\n",
              "      <td>1</td>\n",
              "      <td>1</td>\n",
              "      <td>0</td>\n",
              "      <td>29.00</td>\n",
              "      <td>0</td>\n",
              "      <td>0</td>\n",
              "      <td>211.3375</td>\n",
              "      <td>2</td>\n",
              "      <td>11</td>\n",
              "    </tr>\n",
              "    <tr>\n",
              "      <th>1</th>\n",
              "      <td>1</td>\n",
              "      <td>1</td>\n",
              "      <td>1</td>\n",
              "      <td>0.92</td>\n",
              "      <td>1</td>\n",
              "      <td>2</td>\n",
              "      <td>151.5500</td>\n",
              "      <td>2</td>\n",
              "      <td>2</td>\n",
              "    </tr>\n",
              "    <tr>\n",
              "      <th>2</th>\n",
              "      <td>1</td>\n",
              "      <td>0</td>\n",
              "      <td>0</td>\n",
              "      <td>2.00</td>\n",
              "      <td>1</td>\n",
              "      <td>2</td>\n",
              "      <td>151.5500</td>\n",
              "      <td>2</td>\n",
              "      <td>27</td>\n",
              "    </tr>\n",
              "    <tr>\n",
              "      <th>3</th>\n",
              "      <td>1</td>\n",
              "      <td>0</td>\n",
              "      <td>1</td>\n",
              "      <td>30.00</td>\n",
              "      <td>1</td>\n",
              "      <td>2</td>\n",
              "      <td>151.5500</td>\n",
              "      <td>2</td>\n",
              "      <td>27</td>\n",
              "    </tr>\n",
              "    <tr>\n",
              "      <th>4</th>\n",
              "      <td>1</td>\n",
              "      <td>0</td>\n",
              "      <td>0</td>\n",
              "      <td>25.00</td>\n",
              "      <td>1</td>\n",
              "      <td>2</td>\n",
              "      <td>151.5500</td>\n",
              "      <td>2</td>\n",
              "      <td>27</td>\n",
              "    </tr>\n",
              "  </tbody>\n",
              "</table>\n",
              "</div>"
            ],
            "text/plain": [
              "   pclass  survived  sex    age  sibsp  parch      fare  embarked  boat\n",
              "0       1         1    0  29.00      0      0  211.3375         2    11\n",
              "1       1         1    1   0.92      1      2  151.5500         2     2\n",
              "2       1         0    0   2.00      1      2  151.5500         2    27\n",
              "3       1         0    1  30.00      1      2  151.5500         2    27\n",
              "4       1         0    0  25.00      1      2  151.5500         2    27"
            ]
          },
          "metadata": {},
          "execution_count": 51
        }
      ]
    },
    {
      "cell_type": "code",
      "metadata": {
        "colab": {
          "base_uri": "https://localhost:8080/"
        },
        "id": "xBtyn8GqvKyB",
        "outputId": "71955ec0-a6d3-4c90-a3ed-ede5a27e58a0"
      },
      "source": [
        "titanic_cleaned.info()"
      ],
      "execution_count": null,
      "outputs": [
        {
          "output_type": "stream",
          "name": "stdout",
          "text": [
            "<class 'pandas.core.frame.DataFrame'>\n",
            "Int64Index: 1308 entries, 0 to 1308\n",
            "Data columns (total 9 columns):\n",
            " #   Column    Non-Null Count  Dtype  \n",
            "---  ------    --------------  -----  \n",
            " 0   pclass    1308 non-null   int64  \n",
            " 1   survived  1308 non-null   int64  \n",
            " 2   sex       1308 non-null   int64  \n",
            " 3   age       1308 non-null   float64\n",
            " 4   sibsp     1308 non-null   int64  \n",
            " 5   parch     1308 non-null   int64  \n",
            " 6   fare      1308 non-null   float64\n",
            " 7   embarked  1308 non-null   int64  \n",
            " 8   boat      1308 non-null   int64  \n",
            "dtypes: float64(2), int64(7)\n",
            "memory usage: 102.2 KB\n"
          ]
        }
      ]
    },
    {
      "cell_type": "markdown",
      "metadata": {
        "id": "6nDpp29PwYOk"
      },
      "source": [
        "## Preparation for Machine Learning"
      ]
    },
    {
      "cell_type": "markdown",
      "metadata": {
        "id": "fM4zMQnVz-Rp"
      },
      "source": [
        "Misalkan kita diberikan tugas untuk melakukan prediksi apakah seseorang akan selamat dari bencana Titanic atau tidak. Atribut yang menjadi target adalah \"survived\", sedangkan atribut lainnya menjadi *predictor* (fitur yang akan menentukan hasil prediksi).\n",
        "\n",
        "Beberapa pemrosesan yang dapat dilakukan sebelum data kita dimasukkan di antaranya (tapi tidak terbatas pada):\n",
        "* Memisahkan atribut target dan atribut *predictor*\n",
        "* Melakukan normalisasi jika diperlukan\n",
        "* Memisahkan data menjadi data training dan testing (Akan dibahas pada beberapa Lab selanjutnya)"
      ]
    },
    {
      "cell_type": "code",
      "metadata": {
        "id": "mSFQ0swwvj1U"
      },
      "source": [
        "# Memisahkan atribut target (Y) dengan atribut predictor (X)\n",
        "X = titanic_cleaned.drop('survived', axis=1)\n",
        "Y = titanic_cleaned['survived']"
      ],
      "execution_count": null,
      "outputs": []
    },
    {
      "cell_type": "markdown",
      "metadata": {
        "id": "IEdkNNOqz-Rp"
      },
      "source": [
        "## SOAL 3 \n",
        "\n",
        "(a) Lakukan normalisasi pada X. Implementasikan dengan code! Hint: [Dokumentasi Preprocessing Data](https://scikit-learn.org/stable/modules/preprocessing.html#standardization-or-mean-removal-and-variance-scaling)"
      ]
    },
    {
      "cell_type": "markdown",
      "metadata": {
        "id": "WmTNVF8kwQcC"
      },
      "source": [
        "* Linear Scaling: \n",
        "    * x' = (x-xmin)/(xmax-xmin)\n",
        "    \n",
        "* Log Scaling:\n",
        "    * x' = log(x) \n",
        "\n",
        "* Z-score:\n",
        "    * x' = (x-μ)/σ"
      ]
    },
    {
      "cell_type": "code",
      "metadata": {
        "id": "09NpBqacl4A4",
        "colab": {
          "base_uri": "https://localhost:8080/",
          "height": 277
        },
        "outputId": "2f5fa10c-4ff5-46e5-e4a5-48f5df414e56"
      },
      "source": [
        "# Contoh solusi 3a dengan MinMax\n",
        "\n",
        "from numpy import asarray\n",
        "from sklearn.preprocessing import MinMaxScaler\n",
        "\n",
        "scaler = MinMaxScaler()\n",
        "# Transform data\n",
        "scaled = scaler.fit_transform(X)\n",
        "\n",
        "X = pd.DataFrame(scaled)\n",
        "X.describe()"
      ],
      "execution_count": null,
      "outputs": [
        {
          "output_type": "execute_result",
          "data": {
            "text/html": [
              "<div>\n",
              "<style scoped>\n",
              "    .dataframe tbody tr th:only-of-type {\n",
              "        vertical-align: middle;\n",
              "    }\n",
              "\n",
              "    .dataframe tbody tr th {\n",
              "        vertical-align: top;\n",
              "    }\n",
              "\n",
              "    .dataframe thead th {\n",
              "        text-align: right;\n",
              "    }\n",
              "</style>\n",
              "<table border=\"1\" class=\"dataframe\">\n",
              "  <thead>\n",
              "    <tr style=\"text-align: right;\">\n",
              "      <th></th>\n",
              "      <th>0</th>\n",
              "      <th>1</th>\n",
              "      <th>2</th>\n",
              "      <th>3</th>\n",
              "      <th>4</th>\n",
              "      <th>5</th>\n",
              "      <th>6</th>\n",
              "      <th>7</th>\n",
              "    </tr>\n",
              "  </thead>\n",
              "  <tbody>\n",
              "    <tr>\n",
              "      <th>count</th>\n",
              "      <td>1308.000000</td>\n",
              "      <td>1308.000000</td>\n",
              "      <td>1308.000000</td>\n",
              "      <td>1308.000000</td>\n",
              "      <td>1308.000000</td>\n",
              "      <td>1308.000000</td>\n",
              "      <td>1308.000000</td>\n",
              "      <td>1308.000000</td>\n",
              "    </tr>\n",
              "    <tr>\n",
              "      <th>mean</th>\n",
              "      <td>0.647171</td>\n",
              "      <td>0.643731</td>\n",
              "      <td>0.304181</td>\n",
              "      <td>0.062404</td>\n",
              "      <td>0.042813</td>\n",
              "      <td>0.064988</td>\n",
              "      <td>0.745031</td>\n",
              "      <td>0.798986</td>\n",
              "    </tr>\n",
              "    <tr>\n",
              "      <th>std</th>\n",
              "      <td>0.418965</td>\n",
              "      <td>0.479079</td>\n",
              "      <td>0.210096</td>\n",
              "      <td>0.130246</td>\n",
              "      <td>0.096203</td>\n",
              "      <td>0.101026</td>\n",
              "      <td>0.408140</td>\n",
              "      <td>0.314357</td>\n",
              "    </tr>\n",
              "    <tr>\n",
              "      <th>min</th>\n",
              "      <td>0.000000</td>\n",
              "      <td>0.000000</td>\n",
              "      <td>0.000000</td>\n",
              "      <td>0.000000</td>\n",
              "      <td>0.000000</td>\n",
              "      <td>0.000000</td>\n",
              "      <td>0.000000</td>\n",
              "      <td>0.000000</td>\n",
              "    </tr>\n",
              "    <tr>\n",
              "      <th>25%</th>\n",
              "      <td>0.500000</td>\n",
              "      <td>0.000000</td>\n",
              "      <td>0.085557</td>\n",
              "      <td>0.000000</td>\n",
              "      <td>0.000000</td>\n",
              "      <td>0.015412</td>\n",
              "      <td>0.500000</td>\n",
              "      <td>0.629630</td>\n",
              "    </tr>\n",
              "    <tr>\n",
              "      <th>50%</th>\n",
              "      <td>1.000000</td>\n",
              "      <td>1.000000</td>\n",
              "      <td>0.298509</td>\n",
              "      <td>0.000000</td>\n",
              "      <td>0.000000</td>\n",
              "      <td>0.028213</td>\n",
              "      <td>1.000000</td>\n",
              "      <td>1.000000</td>\n",
              "    </tr>\n",
              "    <tr>\n",
              "      <th>75%</th>\n",
              "      <td>1.000000</td>\n",
              "      <td>1.000000</td>\n",
              "      <td>0.436302</td>\n",
              "      <td>0.125000</td>\n",
              "      <td>0.000000</td>\n",
              "      <td>0.061045</td>\n",
              "      <td>1.000000</td>\n",
              "      <td>1.000000</td>\n",
              "    </tr>\n",
              "    <tr>\n",
              "      <th>max</th>\n",
              "      <td>1.000000</td>\n",
              "      <td>1.000000</td>\n",
              "      <td>1.000000</td>\n",
              "      <td>1.000000</td>\n",
              "      <td>1.000000</td>\n",
              "      <td>1.000000</td>\n",
              "      <td>1.000000</td>\n",
              "      <td>1.000000</td>\n",
              "    </tr>\n",
              "  </tbody>\n",
              "</table>\n",
              "</div>"
            ],
            "text/plain": [
              "                 0            1  ...            6            7\n",
              "count  1308.000000  1308.000000  ...  1308.000000  1308.000000\n",
              "mean      0.647171     0.643731  ...     0.745031     0.798986\n",
              "std       0.418965     0.479079  ...     0.408140     0.314357\n",
              "min       0.000000     0.000000  ...     0.000000     0.000000\n",
              "25%       0.500000     0.000000  ...     0.500000     0.629630\n",
              "50%       1.000000     1.000000  ...     1.000000     1.000000\n",
              "75%       1.000000     1.000000  ...     1.000000     1.000000\n",
              "max       1.000000     1.000000  ...     1.000000     1.000000\n",
              "\n",
              "[8 rows x 8 columns]"
            ]
          },
          "metadata": {},
          "execution_count": 54
        }
      ]
    },
    {
      "cell_type": "markdown",
      "metadata": {
        "id": "n2F8ksSpz-Rp"
      },
      "source": [
        "(b) Bentuk normalisasi apa yang Anda pilih? Apa alasannya? \n",
        "\n",
        "\n",
        "* Min Max atau linear scaling → mengubah distribusi data dalam range 0 - 1\n",
        "    * Untuk neural network/regresi\n",
        "    * Bagus untuk data tanpa/minim outliers\n",
        "    * Distribusi data uniform\n",
        "* Standard scaler atau z-score → mengubah mean = 0 , std = 1\n",
        "    * Menyesuaikan asumsi untuk tes hipotesis tertentu,\n",
        "    * Menghitung korelasi dari covariance matrix (lol ngide sih, ga ngerti kenapa orang mesti ngelakuin ini tp ya boleh)\n",
        "    * Mengecilkan nilai outliers (sehingga cocok untuk data dengan beberapa outliers)\n",
        "* Log transformation/scaling\n",
        "    * Mengecilkan data dengan distribusi logaritma, agar nilainya lebih seragam\n",
        "    * Digunakan ketika data memiliki distribusi yang ekstrim (beberapa data sangat tinggi frekuensinya dan sisanya sangat sedikit)\n",
        "* Dan lain-lain"
      ]
    },
    {
      "cell_type": "markdown",
      "metadata": {
        "id": "PKskkBe55OBI"
      },
      "source": [
        "(c) Mengapa perlu dinormalisasi?\n",
        "\n",
        "* Ingin mengurangi penggunaan memori\n",
        "* Mempercepat jalannya prediksi pada model prediksi tertentu\n",
        "* Mempengaruhi performa model klasifikasi tertentu, clustering,\n",
        "* Menghitung covariance matrix,\n",
        "* Menerapkan asumsi untuk tes hipotesis data tertentu,\n",
        "* Data berada dalam dimensi pengukuran yang berbeda (age dan fare → beda kan),\n",
        "* Menjauhi/menghilangkan/mengecilkan outliers,\n",
        "* Terdapat column yang memiliki range value yang berbeda jauh dengan yang lainnya,\n",
        "* Terdapat value yang memiliki nilai jauh lebih besar."
      ]
    }
  ]
}